{
  "nbformat": 4,
  "nbformat_minor": 0,
  "metadata": {
    "colab": {
      "name": "IPL_NNs.ipynb",
      "provenance": [],
      "collapsed_sections": [],
      "toc_visible": true,
      "authorship_tag": "ABX9TyPQD+pYn1ncszABCIfXHpNA",
      "include_colab_link": true
    },
    "kernelspec": {
      "name": "python3",
      "display_name": "Python 3"
    },
    "language_info": {
      "name": "python"
    }
  },
  "cells": [
    {
      "cell_type": "markdown",
      "metadata": {
        "id": "view-in-github",
        "colab_type": "text"
      },
      "source": [
        "<a href=\"https://colab.research.google.com/github/PrajwalKalpande/IPL-Score-and-Winner-Prediction/blob/main/IPL_NNs.ipynb\" target=\"_parent\"><img src=\"https://colab.research.google.com/assets/colab-badge.svg\" alt=\"Open In Colab\"/></a>"
      ]
    },
    {
      "cell_type": "markdown",
      "metadata": {
        "id": "GZDFrkNLDg-f"
      },
      "source": [
        "# Importing Libraries and Pre-processed Data"
      ]
    },
    {
      "cell_type": "code",
      "execution_count": null,
      "metadata": {
        "id": "bbI_PTdHvYqh"
      },
      "outputs": [],
      "source": [
        "import numpy as np\n",
        "import pandas as pd\n",
        "import plotly.express as px\n",
        "import plotly.offline as pyo\n",
        "import plotly.graph_objs as go\n",
        "import plotly.figure_factory as ff\n",
        "import plotly.subplots as subplots\n",
        "import cufflinks as cf\n",
        "%matplotlib inline\n",
        "import pandas as pd\n",
        "%matplotlib inline\n",
        "import pandas as pd\n",
        "import numpy as np\n",
        "import math,os\n",
        "import matplotlib.pyplot as plt\n",
        "import seaborn as sns\n",
        "from numpy.random import choice\n",
        "#import scikitplot as skplt\n",
        "from time import time"
      ]
    },
    {
      "cell_type": "code",
      "execution_count": null,
      "metadata": {
        "id": "x81-FSK8YlNb"
      },
      "outputs": [],
      "source": [
        "import tensorflow as tf\n",
        "from tensorflow.keras.models import Sequential\n",
        "from tensorflow.keras.layers import Dense,Dropout,BatchNormalization\n",
        "from tensorflow.keras.callbacks import EarlyStopping\n",
        "from keras.wrappers.scikit_learn import KerasClassifier\n",
        "from sklearn.model_selection import GridSearchCV\n",
        "import numpy as np"
      ]
    },
    {
      "cell_type": "code",
      "execution_count": 35,
      "metadata": {
        "id": "vUrdT0rDFrJl"
      },
      "outputs": [],
      "source": [
        "from sklearn.linear_model import LinearRegression,Ridge,SGDRegressor,ElasticNet\n",
        "from sklearn.neural_network import MLPRegressor\n",
        "from sklearn import linear_model\n",
        "from sklearn.preprocessing import MinMaxScaler,StandardScaler\n",
        "from sklearn.model_selection import train_test_split\n",
        "from sklearn.utils import shuffle\n",
        "from sklearn.utils.validation import check_array \n",
        "from sklearn.metrics import r2_score, mean_squared_error, mean_absolute_error\n",
        "from sklearn.svm import LinearSVR\n",
        "from sklearn.tree import DecisionTreeRegressor\n",
        "from sklearn.metrics import r2_score, mean_squared_error, mean_absolute_error, confusion_matrix, classification_report,ConfusionMatrixDisplay\n",
        "from sklearn.metrics import f1_score,accuracy_score , roc_auc_score,roc_curve,precision_score,recall_score\n",
        "from sklearn.ensemble import RandomForestRegressor,ExtraTreesRegressor,GradientBoostingRegressor,AdaBoostRegressor,BaggingRegressor"
      ]
    },
    {
      "cell_type": "code",
      "execution_count": null,
      "metadata": {
        "colab": {
          "base_uri": "https://localhost:8080/"
        },
        "id": "dNGbdKCVVcpK",
        "outputId": "79608ccd-d435-4edb-ed48-3a239a749167"
      },
      "outputs": [
        {
          "output_type": "stream",
          "name": "stdout",
          "text": [
            "Mounted at /content/drive/\n"
          ]
        }
      ],
      "source": [
        "# import zipfile\n",
        "# from google.colab import drive\n",
        "\n",
        "# drive.mount('/content/drive/')"
      ]
    },
    {
      "cell_type": "code",
      "source": [
        "!gdown --id 1r94_CtQU6T_H5Ni2q4KmJMugEHYD2Mxk"
      ],
      "metadata": {
        "id": "KzCkNhjilrpm",
        "colab": {
          "base_uri": "https://localhost:8080/"
        },
        "outputId": "a7ce99fc-9584-44ee-d4ca-e034f37e9512"
      },
      "execution_count": null,
      "outputs": [
        {
          "output_type": "stream",
          "name": "stdout",
          "text": [
            "Downloading...\n",
            "From: https://drive.google.com/uc?id=1r94_CtQU6T_H5Ni2q4KmJMugEHYD2Mxk\n",
            "To: /content/ipl_predict_dl.csv\n",
            "100% 11.9M/11.9M [00:00<00:00, 92.0MB/s]\n"
          ]
        }
      ]
    },
    {
      "cell_type": "code",
      "source": [
        "data = pd.read_csv(\"/content/ipl_predict_dl.csv\")"
      ],
      "metadata": {
        "id": "VB3MKJk0yhKa"
      },
      "execution_count": null,
      "outputs": []
    },
    {
      "cell_type": "code",
      "source": [
        "data.drop(['Unnamed: 0'],axis = 1,inplace = True)\n",
        "data.head()\n",
        " "
      ],
      "metadata": {
        "colab": {
          "base_uri": "https://localhost:8080/",
          "height": 270
        },
        "id": "LYrSlW0yzBU1",
        "outputId": "d5db012b-030c-4c30-fdb7-c6a5573a6ef5"
      },
      "execution_count": null,
      "outputs": [
        {
          "output_type": "execute_result",
          "data": {
            "text/html": [
              "\n",
              "  <div id=\"df-e47e0582-a314-4ae7-bdae-1d8686303aea\">\n",
              "    <div class=\"colab-df-container\">\n",
              "      <div>\n",
              "<style scoped>\n",
              "    .dataframe tbody tr th:only-of-type {\n",
              "        vertical-align: middle;\n",
              "    }\n",
              "\n",
              "    .dataframe tbody tr th {\n",
              "        vertical-align: top;\n",
              "    }\n",
              "\n",
              "    .dataframe thead th {\n",
              "        text-align: right;\n",
              "    }\n",
              "</style>\n",
              "<table border=\"1\" class=\"dataframe\">\n",
              "  <thead>\n",
              "    <tr style=\"text-align: right;\">\n",
              "      <th></th>\n",
              "      <th>id_inning</th>\n",
              "      <th>year</th>\n",
              "      <th>inning</th>\n",
              "      <th>ball</th>\n",
              "      <th>venue</th>\n",
              "      <th>batsman</th>\n",
              "      <th>bowler</th>\n",
              "      <th>batting_team</th>\n",
              "      <th>bowling_team</th>\n",
              "      <th>is_wicket</th>\n",
              "      <th>total_runs_y</th>\n",
              "      <th>total_runs_x</th>\n",
              "      <th>team1_toss_win</th>\n",
              "      <th>team1_win</th>\n",
              "      <th>team1_bat</th>\n",
              "      <th>team1</th>\n",
              "      <th>team2</th>\n",
              "      <th>current_runs</th>\n",
              "      <th>current_wickets</th>\n",
              "      <th>runs_last5</th>\n",
              "      <th>wickets_last5</th>\n",
              "    </tr>\n",
              "  </thead>\n",
              "  <tbody>\n",
              "    <tr>\n",
              "      <th>0</th>\n",
              "      <td>3359827</td>\n",
              "      <td>2008</td>\n",
              "      <td>1</td>\n",
              "      <td>5.1</td>\n",
              "      <td>14</td>\n",
              "      <td>431</td>\n",
              "      <td>264</td>\n",
              "      <td>7</td>\n",
              "      <td>12</td>\n",
              "      <td>0</td>\n",
              "      <td>4</td>\n",
              "      <td>222</td>\n",
              "      <td>1.0</td>\n",
              "      <td>0.0</td>\n",
              "      <td>0</td>\n",
              "      <td>12</td>\n",
              "      <td>7</td>\n",
              "      <td>54</td>\n",
              "      <td>0</td>\n",
              "      <td>54.0</td>\n",
              "      <td>0.0</td>\n",
              "    </tr>\n",
              "    <tr>\n",
              "      <th>1</th>\n",
              "      <td>3359827</td>\n",
              "      <td>2008</td>\n",
              "      <td>1</td>\n",
              "      <td>5.2</td>\n",
              "      <td>14</td>\n",
              "      <td>431</td>\n",
              "      <td>264</td>\n",
              "      <td>7</td>\n",
              "      <td>12</td>\n",
              "      <td>0</td>\n",
              "      <td>1</td>\n",
              "      <td>222</td>\n",
              "      <td>1.0</td>\n",
              "      <td>0.0</td>\n",
              "      <td>0</td>\n",
              "      <td>12</td>\n",
              "      <td>7</td>\n",
              "      <td>55</td>\n",
              "      <td>0</td>\n",
              "      <td>55.0</td>\n",
              "      <td>0.0</td>\n",
              "    </tr>\n",
              "    <tr>\n",
              "      <th>2</th>\n",
              "      <td>3359827</td>\n",
              "      <td>2008</td>\n",
              "      <td>1</td>\n",
              "      <td>5.3</td>\n",
              "      <td>14</td>\n",
              "      <td>77</td>\n",
              "      <td>264</td>\n",
              "      <td>7</td>\n",
              "      <td>12</td>\n",
              "      <td>0</td>\n",
              "      <td>4</td>\n",
              "      <td>222</td>\n",
              "      <td>1.0</td>\n",
              "      <td>0.0</td>\n",
              "      <td>0</td>\n",
              "      <td>12</td>\n",
              "      <td>7</td>\n",
              "      <td>59</td>\n",
              "      <td>0</td>\n",
              "      <td>59.0</td>\n",
              "      <td>0.0</td>\n",
              "    </tr>\n",
              "    <tr>\n",
              "      <th>3</th>\n",
              "      <td>3359827</td>\n",
              "      <td>2008</td>\n",
              "      <td>1</td>\n",
              "      <td>5.4</td>\n",
              "      <td>14</td>\n",
              "      <td>77</td>\n",
              "      <td>264</td>\n",
              "      <td>7</td>\n",
              "      <td>12</td>\n",
              "      <td>0</td>\n",
              "      <td>0</td>\n",
              "      <td>222</td>\n",
              "      <td>1.0</td>\n",
              "      <td>0.0</td>\n",
              "      <td>0</td>\n",
              "      <td>12</td>\n",
              "      <td>7</td>\n",
              "      <td>59</td>\n",
              "      <td>0</td>\n",
              "      <td>59.0</td>\n",
              "      <td>0.0</td>\n",
              "    </tr>\n",
              "    <tr>\n",
              "      <th>4</th>\n",
              "      <td>3359827</td>\n",
              "      <td>2008</td>\n",
              "      <td>1</td>\n",
              "      <td>5.5</td>\n",
              "      <td>14</td>\n",
              "      <td>77</td>\n",
              "      <td>264</td>\n",
              "      <td>7</td>\n",
              "      <td>12</td>\n",
              "      <td>0</td>\n",
              "      <td>1</td>\n",
              "      <td>222</td>\n",
              "      <td>1.0</td>\n",
              "      <td>0.0</td>\n",
              "      <td>0</td>\n",
              "      <td>12</td>\n",
              "      <td>7</td>\n",
              "      <td>60</td>\n",
              "      <td>0</td>\n",
              "      <td>59.0</td>\n",
              "      <td>0.0</td>\n",
              "    </tr>\n",
              "  </tbody>\n",
              "</table>\n",
              "</div>\n",
              "      <button class=\"colab-df-convert\" onclick=\"convertToInteractive('df-e47e0582-a314-4ae7-bdae-1d8686303aea')\"\n",
              "              title=\"Convert this dataframe to an interactive table.\"\n",
              "              style=\"display:none;\">\n",
              "        \n",
              "  <svg xmlns=\"http://www.w3.org/2000/svg\" height=\"24px\"viewBox=\"0 0 24 24\"\n",
              "       width=\"24px\">\n",
              "    <path d=\"M0 0h24v24H0V0z\" fill=\"none\"/>\n",
              "    <path d=\"M18.56 5.44l.94 2.06.94-2.06 2.06-.94-2.06-.94-.94-2.06-.94 2.06-2.06.94zm-11 1L8.5 8.5l.94-2.06 2.06-.94-2.06-.94L8.5 2.5l-.94 2.06-2.06.94zm10 10l.94 2.06.94-2.06 2.06-.94-2.06-.94-.94-2.06-.94 2.06-2.06.94z\"/><path d=\"M17.41 7.96l-1.37-1.37c-.4-.4-.92-.59-1.43-.59-.52 0-1.04.2-1.43.59L10.3 9.45l-7.72 7.72c-.78.78-.78 2.05 0 2.83L4 21.41c.39.39.9.59 1.41.59.51 0 1.02-.2 1.41-.59l7.78-7.78 2.81-2.81c.8-.78.8-2.07 0-2.86zM5.41 20L4 18.59l7.72-7.72 1.47 1.35L5.41 20z\"/>\n",
              "  </svg>\n",
              "      </button>\n",
              "      \n",
              "  <style>\n",
              "    .colab-df-container {\n",
              "      display:flex;\n",
              "      flex-wrap:wrap;\n",
              "      gap: 12px;\n",
              "    }\n",
              "\n",
              "    .colab-df-convert {\n",
              "      background-color: #E8F0FE;\n",
              "      border: none;\n",
              "      border-radius: 50%;\n",
              "      cursor: pointer;\n",
              "      display: none;\n",
              "      fill: #1967D2;\n",
              "      height: 32px;\n",
              "      padding: 0 0 0 0;\n",
              "      width: 32px;\n",
              "    }\n",
              "\n",
              "    .colab-df-convert:hover {\n",
              "      background-color: #E2EBFA;\n",
              "      box-shadow: 0px 1px 2px rgba(60, 64, 67, 0.3), 0px 1px 3px 1px rgba(60, 64, 67, 0.15);\n",
              "      fill: #174EA6;\n",
              "    }\n",
              "\n",
              "    [theme=dark] .colab-df-convert {\n",
              "      background-color: #3B4455;\n",
              "      fill: #D2E3FC;\n",
              "    }\n",
              "\n",
              "    [theme=dark] .colab-df-convert:hover {\n",
              "      background-color: #434B5C;\n",
              "      box-shadow: 0px 1px 3px 1px rgba(0, 0, 0, 0.15);\n",
              "      filter: drop-shadow(0px 1px 2px rgba(0, 0, 0, 0.3));\n",
              "      fill: #FFFFFF;\n",
              "    }\n",
              "  </style>\n",
              "\n",
              "      <script>\n",
              "        const buttonEl =\n",
              "          document.querySelector('#df-e47e0582-a314-4ae7-bdae-1d8686303aea button.colab-df-convert');\n",
              "        buttonEl.style.display =\n",
              "          google.colab.kernel.accessAllowed ? 'block' : 'none';\n",
              "\n",
              "        async function convertToInteractive(key) {\n",
              "          const element = document.querySelector('#df-e47e0582-a314-4ae7-bdae-1d8686303aea');\n",
              "          const dataTable =\n",
              "            await google.colab.kernel.invokeFunction('convertToInteractive',\n",
              "                                                     [key], {});\n",
              "          if (!dataTable) return;\n",
              "\n",
              "          const docLinkHtml = 'Like what you see? Visit the ' +\n",
              "            '<a target=\"_blank\" href=https://colab.research.google.com/notebooks/data_table.ipynb>data table notebook</a>'\n",
              "            + ' to learn more about interactive tables.';\n",
              "          element.innerHTML = '';\n",
              "          dataTable['output_type'] = 'display_data';\n",
              "          await google.colab.output.renderOutput(dataTable, element);\n",
              "          const docLink = document.createElement('div');\n",
              "          docLink.innerHTML = docLinkHtml;\n",
              "          element.appendChild(docLink);\n",
              "        }\n",
              "      </script>\n",
              "    </div>\n",
              "  </div>\n",
              "  "
            ],
            "text/plain": [
              "   id_inning  year  inning  ...  current_wickets  runs_last5  wickets_last5\n",
              "0    3359827  2008       1  ...                0        54.0            0.0\n",
              "1    3359827  2008       1  ...                0        55.0            0.0\n",
              "2    3359827  2008       1  ...                0        59.0            0.0\n",
              "3    3359827  2008       1  ...                0        59.0            0.0\n",
              "4    3359827  2008       1  ...                0        59.0            0.0\n",
              "\n",
              "[5 rows x 21 columns]"
            ]
          },
          "metadata": {},
          "execution_count": 8
        }
      ]
    },
    {
      "cell_type": "markdown",
      "source": [
        "# Neural Network for Score Prediction"
      ],
      "metadata": {
        "id": "jDuWRX7fzecM"
      }
    },
    {
      "cell_type": "markdown",
      "source": [
        "### Defining Custom Functions for Evaluation"
      ],
      "metadata": {
        "id": "Hp6eySMSBxe1"
      }
    },
    {
      "cell_type": "markdown",
      "metadata": {
        "id": "0j3Da-1GAK1a"
      },
      "source": [
        "Defining custom accuracy for score prediction"
      ]
    },
    {
      "cell_type": "code",
      "execution_count": null,
      "metadata": {
        "id": "ZwwL7W44vSbI"
      },
      "outputs": [],
      "source": [
        "def custom_accuracy(y_test,y_pred,threshold=10):\n",
        "    right = 0\n",
        "    l = y_test.shape[0]\n",
        "    for i in range(0,l-1):\n",
        "        if(abs(y_pred[i]-y_test[i]) <= threshold):\n",
        "            right += 1\n",
        "        \n",
        "    return ((right/l)*100)\n",
        "#If predicted score is within 10 runs margin of actual score it is treated as correct prediction"
      ]
    },
    {
      "cell_type": "markdown",
      "source": [
        "Plot predicted and actual values"
      ],
      "metadata": {
        "id": "lLJXOYlAAOkz"
      }
    },
    {
      "cell_type": "code",
      "source": [
        "def plotvals(y_test,y_pred) :\n",
        "\n",
        "  fig = plt.figure(figsize=(9,6))\n",
        "  xaxis = np.arange(1, y_pred.shape[0]+1,1)\n",
        "  sns.kdeplot(y_pred, shade=True, color=\"g\", label=\"Predicted Values\", alpha=.7)\n",
        "  sns.kdeplot(y_test, shade=True, color=\"dodgerblue\", label=\"Actual Values\", alpha=.7)\n",
        "  \n",
        "  plt.title('Predicting Final Scores', fontsize=16)\n",
        "  plt.legend()\n",
        "  plt.show()"
      ],
      "metadata": {
        "id": "Gnjy24DEARfH"
      },
      "execution_count": null,
      "outputs": []
    },
    {
      "cell_type": "markdown",
      "source": [
        "Function to return evaluation metrics for model"
      ],
      "metadata": {
        "id": "GX7yM6RFM0oU"
      }
    },
    {
      "cell_type": "code",
      "source": [
        "def eval(y_test,y_pred,threshold=10) :\n",
        "  mae = mean_absolute_error(y_test , y_pred)\n",
        "  rmse=  np.sqrt(mean_squared_error(y_test, y_pred))\n",
        "  r2 = r2_score(y_test,y_pred)\n",
        "  acc = custom_accuracy(y_test,y_pred,threshold)\n",
        "  return {\"MAE\":mae,\"RMSE\":rmse,\"R2score\":r2,\"Custom Accuracy\":acc}"
      ],
      "metadata": {
        "id": "wqZUZ1RVM41g"
      },
      "execution_count": null,
      "outputs": []
    },
    {
      "cell_type": "markdown",
      "source": [
        "Function to evaluate classification model"
      ],
      "metadata": {
        "id": "Y8cnd6tN_mqo"
      }
    },
    {
      "cell_type": "code",
      "source": [
        "def class_report(y_test,y_pred):\n",
        "  f1 = f1_score(y_test,y_pred)\n",
        "  acc = accuracy_score(y_test,y_pred)\n",
        "  rocauc = roc_auc_score(y_test,y_pred)\n",
        "  precision = precision_score(y_test,y_pred)\n",
        "  recall=recall_score(y_test,y_pred) \n",
        "  return {'F1_score':f1,'Accuracy':acc,'Area under ROC curve':rocauc,'Precision':precision,'Recall':recall}"
      ],
      "metadata": {
        "id": "JcFOp29y_rZe"
      },
      "execution_count": 36,
      "outputs": []
    },
    {
      "cell_type": "markdown",
      "source": [
        "### Preparing Data for Model Training"
      ],
      "metadata": {
        "id": "KWD0C_dJzk8I"
      }
    },
    {
      "cell_type": "markdown",
      "source": [
        "Removing the old data (2008-2012)"
      ],
      "metadata": {
        "id": "bFj03DZbzwRG"
      }
    },
    {
      "cell_type": "code",
      "source": [
        "X_test_data = data[data['year']==2020]\n",
        "X_train_data=data[data['year']<2020]\n",
        "X_train_data = X_train_data[X_train_data['year']>2012]"
      ],
      "metadata": {
        "id": "r7qIeQXMz4Y3"
      },
      "execution_count": null,
      "outputs": []
    },
    {
      "cell_type": "code",
      "source": [
        "X_train_data.head()"
      ],
      "metadata": {
        "colab": {
          "base_uri": "https://localhost:8080/",
          "height": 270
        },
        "id": "YcCRv-SD0Pk7",
        "outputId": "b95b6cd2-1e7c-4b1b-b6ee-586ea74a2067"
      },
      "execution_count": null,
      "outputs": [
        {
          "output_type": "execute_result",
          "data": {
            "text/html": [
              "\n",
              "  <div id=\"df-a659f77a-c4ee-4fa0-9f90-1a36ee1920e1\">\n",
              "    <div class=\"colab-df-container\">\n",
              "      <div>\n",
              "<style scoped>\n",
              "    .dataframe tbody tr th:only-of-type {\n",
              "        vertical-align: middle;\n",
              "    }\n",
              "\n",
              "    .dataframe tbody tr th {\n",
              "        vertical-align: top;\n",
              "    }\n",
              "\n",
              "    .dataframe thead th {\n",
              "        text-align: right;\n",
              "    }\n",
              "</style>\n",
              "<table border=\"1\" class=\"dataframe\">\n",
              "  <thead>\n",
              "    <tr style=\"text-align: right;\">\n",
              "      <th></th>\n",
              "      <th>id_inning</th>\n",
              "      <th>year</th>\n",
              "      <th>inning</th>\n",
              "      <th>ball</th>\n",
              "      <th>venue</th>\n",
              "      <th>batsman</th>\n",
              "      <th>bowler</th>\n",
              "      <th>batting_team</th>\n",
              "      <th>bowling_team</th>\n",
              "      <th>is_wicket</th>\n",
              "      <th>total_runs_y</th>\n",
              "      <th>total_runs_x</th>\n",
              "      <th>team1_toss_win</th>\n",
              "      <th>team1_win</th>\n",
              "      <th>team1_bat</th>\n",
              "      <th>team1</th>\n",
              "      <th>team2</th>\n",
              "      <th>current_runs</th>\n",
              "      <th>current_wickets</th>\n",
              "      <th>runs_last5</th>\n",
              "      <th>wickets_last5</th>\n",
              "    </tr>\n",
              "  </thead>\n",
              "  <tbody>\n",
              "    <tr>\n",
              "      <th>31389</th>\n",
              "      <td>5979983</td>\n",
              "      <td>2013</td>\n",
              "      <td>1</td>\n",
              "      <td>5.1</td>\n",
              "      <td>7</td>\n",
              "      <td>137</td>\n",
              "      <td>200</td>\n",
              "      <td>3</td>\n",
              "      <td>7</td>\n",
              "      <td>0</td>\n",
              "      <td>4</td>\n",
              "      <td>128</td>\n",
              "      <td>1.0</td>\n",
              "      <td>1.0</td>\n",
              "      <td>0</td>\n",
              "      <td>7</td>\n",
              "      <td>3</td>\n",
              "      <td>38</td>\n",
              "      <td>1</td>\n",
              "      <td>42.0</td>\n",
              "      <td>2.0</td>\n",
              "    </tr>\n",
              "    <tr>\n",
              "      <th>31390</th>\n",
              "      <td>5979983</td>\n",
              "      <td>2013</td>\n",
              "      <td>1</td>\n",
              "      <td>5.2</td>\n",
              "      <td>7</td>\n",
              "      <td>137</td>\n",
              "      <td>200</td>\n",
              "      <td>3</td>\n",
              "      <td>7</td>\n",
              "      <td>0</td>\n",
              "      <td>0</td>\n",
              "      <td>128</td>\n",
              "      <td>1.0</td>\n",
              "      <td>1.0</td>\n",
              "      <td>0</td>\n",
              "      <td>7</td>\n",
              "      <td>3</td>\n",
              "      <td>38</td>\n",
              "      <td>1</td>\n",
              "      <td>40.0</td>\n",
              "      <td>2.0</td>\n",
              "    </tr>\n",
              "    <tr>\n",
              "      <th>31391</th>\n",
              "      <td>5979983</td>\n",
              "      <td>2013</td>\n",
              "      <td>1</td>\n",
              "      <td>5.3</td>\n",
              "      <td>7</td>\n",
              "      <td>137</td>\n",
              "      <td>200</td>\n",
              "      <td>3</td>\n",
              "      <td>7</td>\n",
              "      <td>0</td>\n",
              "      <td>1</td>\n",
              "      <td>128</td>\n",
              "      <td>1.0</td>\n",
              "      <td>1.0</td>\n",
              "      <td>0</td>\n",
              "      <td>7</td>\n",
              "      <td>3</td>\n",
              "      <td>39</td>\n",
              "      <td>1</td>\n",
              "      <td>39.0</td>\n",
              "      <td>2.0</td>\n",
              "    </tr>\n",
              "    <tr>\n",
              "      <th>31392</th>\n",
              "      <td>5979983</td>\n",
              "      <td>2013</td>\n",
              "      <td>1</td>\n",
              "      <td>5.4</td>\n",
              "      <td>7</td>\n",
              "      <td>116</td>\n",
              "      <td>200</td>\n",
              "      <td>3</td>\n",
              "      <td>7</td>\n",
              "      <td>0</td>\n",
              "      <td>1</td>\n",
              "      <td>128</td>\n",
              "      <td>1.0</td>\n",
              "      <td>1.0</td>\n",
              "      <td>0</td>\n",
              "      <td>7</td>\n",
              "      <td>3</td>\n",
              "      <td>40</td>\n",
              "      <td>1</td>\n",
              "      <td>40.0</td>\n",
              "      <td>1.0</td>\n",
              "    </tr>\n",
              "    <tr>\n",
              "      <th>31393</th>\n",
              "      <td>5979983</td>\n",
              "      <td>2013</td>\n",
              "      <td>1</td>\n",
              "      <td>5.5</td>\n",
              "      <td>7</td>\n",
              "      <td>137</td>\n",
              "      <td>200</td>\n",
              "      <td>3</td>\n",
              "      <td>7</td>\n",
              "      <td>0</td>\n",
              "      <td>1</td>\n",
              "      <td>128</td>\n",
              "      <td>1.0</td>\n",
              "      <td>1.0</td>\n",
              "      <td>0</td>\n",
              "      <td>7</td>\n",
              "      <td>3</td>\n",
              "      <td>41</td>\n",
              "      <td>1</td>\n",
              "      <td>41.0</td>\n",
              "      <td>0.0</td>\n",
              "    </tr>\n",
              "  </tbody>\n",
              "</table>\n",
              "</div>\n",
              "      <button class=\"colab-df-convert\" onclick=\"convertToInteractive('df-a659f77a-c4ee-4fa0-9f90-1a36ee1920e1')\"\n",
              "              title=\"Convert this dataframe to an interactive table.\"\n",
              "              style=\"display:none;\">\n",
              "        \n",
              "  <svg xmlns=\"http://www.w3.org/2000/svg\" height=\"24px\"viewBox=\"0 0 24 24\"\n",
              "       width=\"24px\">\n",
              "    <path d=\"M0 0h24v24H0V0z\" fill=\"none\"/>\n",
              "    <path d=\"M18.56 5.44l.94 2.06.94-2.06 2.06-.94-2.06-.94-.94-2.06-.94 2.06-2.06.94zm-11 1L8.5 8.5l.94-2.06 2.06-.94-2.06-.94L8.5 2.5l-.94 2.06-2.06.94zm10 10l.94 2.06.94-2.06 2.06-.94-2.06-.94-.94-2.06-.94 2.06-2.06.94z\"/><path d=\"M17.41 7.96l-1.37-1.37c-.4-.4-.92-.59-1.43-.59-.52 0-1.04.2-1.43.59L10.3 9.45l-7.72 7.72c-.78.78-.78 2.05 0 2.83L4 21.41c.39.39.9.59 1.41.59.51 0 1.02-.2 1.41-.59l7.78-7.78 2.81-2.81c.8-.78.8-2.07 0-2.86zM5.41 20L4 18.59l7.72-7.72 1.47 1.35L5.41 20z\"/>\n",
              "  </svg>\n",
              "      </button>\n",
              "      \n",
              "  <style>\n",
              "    .colab-df-container {\n",
              "      display:flex;\n",
              "      flex-wrap:wrap;\n",
              "      gap: 12px;\n",
              "    }\n",
              "\n",
              "    .colab-df-convert {\n",
              "      background-color: #E8F0FE;\n",
              "      border: none;\n",
              "      border-radius: 50%;\n",
              "      cursor: pointer;\n",
              "      display: none;\n",
              "      fill: #1967D2;\n",
              "      height: 32px;\n",
              "      padding: 0 0 0 0;\n",
              "      width: 32px;\n",
              "    }\n",
              "\n",
              "    .colab-df-convert:hover {\n",
              "      background-color: #E2EBFA;\n",
              "      box-shadow: 0px 1px 2px rgba(60, 64, 67, 0.3), 0px 1px 3px 1px rgba(60, 64, 67, 0.15);\n",
              "      fill: #174EA6;\n",
              "    }\n",
              "\n",
              "    [theme=dark] .colab-df-convert {\n",
              "      background-color: #3B4455;\n",
              "      fill: #D2E3FC;\n",
              "    }\n",
              "\n",
              "    [theme=dark] .colab-df-convert:hover {\n",
              "      background-color: #434B5C;\n",
              "      box-shadow: 0px 1px 3px 1px rgba(0, 0, 0, 0.15);\n",
              "      filter: drop-shadow(0px 1px 2px rgba(0, 0, 0, 0.3));\n",
              "      fill: #FFFFFF;\n",
              "    }\n",
              "  </style>\n",
              "\n",
              "      <script>\n",
              "        const buttonEl =\n",
              "          document.querySelector('#df-a659f77a-c4ee-4fa0-9f90-1a36ee1920e1 button.colab-df-convert');\n",
              "        buttonEl.style.display =\n",
              "          google.colab.kernel.accessAllowed ? 'block' : 'none';\n",
              "\n",
              "        async function convertToInteractive(key) {\n",
              "          const element = document.querySelector('#df-a659f77a-c4ee-4fa0-9f90-1a36ee1920e1');\n",
              "          const dataTable =\n",
              "            await google.colab.kernel.invokeFunction('convertToInteractive',\n",
              "                                                     [key], {});\n",
              "          if (!dataTable) return;\n",
              "\n",
              "          const docLinkHtml = 'Like what you see? Visit the ' +\n",
              "            '<a target=\"_blank\" href=https://colab.research.google.com/notebooks/data_table.ipynb>data table notebook</a>'\n",
              "            + ' to learn more about interactive tables.';\n",
              "          element.innerHTML = '';\n",
              "          dataTable['output_type'] = 'display_data';\n",
              "          await google.colab.output.renderOutput(dataTable, element);\n",
              "          const docLink = document.createElement('div');\n",
              "          docLink.innerHTML = docLinkHtml;\n",
              "          element.appendChild(docLink);\n",
              "        }\n",
              "      </script>\n",
              "    </div>\n",
              "  </div>\n",
              "  "
            ],
            "text/plain": [
              "       id_inning  year  inning  ...  current_wickets  runs_last5  wickets_last5\n",
              "31389    5979983  2013       1  ...                1        42.0            2.0\n",
              "31390    5979983  2013       1  ...                1        40.0            2.0\n",
              "31391    5979983  2013       1  ...                1        39.0            2.0\n",
              "31392    5979983  2013       1  ...                1        40.0            1.0\n",
              "31393    5979983  2013       1  ...                1        41.0            0.0\n",
              "\n",
              "[5 rows x 21 columns]"
            ]
          },
          "metadata": {},
          "execution_count": 12
        }
      ]
    },
    {
      "cell_type": "code",
      "source": [
        "X_train_data.columns"
      ],
      "metadata": {
        "colab": {
          "base_uri": "https://localhost:8080/"
        },
        "id": "7drp3pdcznZo",
        "outputId": "3dc80280-bf3c-4e02-ada3-575d4724d873"
      },
      "execution_count": null,
      "outputs": [
        {
          "output_type": "execute_result",
          "data": {
            "text/plain": [
              "Index(['id_inning', 'year', 'inning', 'ball', 'venue', 'batsman', 'bowler',\n",
              "       'batting_team', 'bowling_team', 'is_wicket', 'total_runs_y',\n",
              "       'total_runs_x', 'team1_toss_win', 'team1_win', 'team1_bat', 'team1',\n",
              "       'team2', 'current_runs', 'current_wickets', 'runs_last5',\n",
              "       'wickets_last5'],\n",
              "      dtype='object')"
            ]
          },
          "metadata": {},
          "execution_count": 13
        }
      ]
    },
    {
      "cell_type": "code",
      "source": [
        "features = data.columns[[2,3,4,5,6,12,14,15,16,17,-1,-2]]\n",
        "X_train_data.rename(columns={'total_runs_x': 'final_score'}, inplace=True)\n",
        "X_test_data.rename(columns={'total_runs_x': 'final_score'}, inplace=True)\n",
        "target = X_train_data.columns[11]\n",
        "print(features)\n",
        "print(target)"
      ],
      "metadata": {
        "colab": {
          "base_uri": "https://localhost:8080/"
        },
        "id": "UcF2tKOazFBq",
        "outputId": "f93a8b04-1649-4d31-a634-c2e670b2c64c"
      },
      "execution_count": null,
      "outputs": [
        {
          "output_type": "stream",
          "name": "stdout",
          "text": [
            "Index(['inning', 'ball', 'venue', 'batsman', 'bowler', 'team1_toss_win',\n",
            "       'team1_bat', 'team1', 'team2', 'current_runs', 'wickets_last5',\n",
            "       'runs_last5'],\n",
            "      dtype='object')\n",
            "final_score\n"
          ]
        }
      ]
    },
    {
      "cell_type": "code",
      "source": [
        "X_train = X_train_data[features]\n",
        "X_test = X_test_data[features]\n",
        "y_train = X_train_data[target]\n",
        "y_test = X_test_data[target]"
      ],
      "metadata": {
        "id": "bEsp2kN51utA"
      },
      "execution_count": null,
      "outputs": []
    },
    {
      "cell_type": "code",
      "source": [
        "sc = MinMaxScaler()\n",
        "X_train = sc.fit_transform(X_train)\n",
        "X_test = sc.transform(X_test)"
      ],
      "metadata": {
        "id": "IGAKyx2f1yYu"
      },
      "execution_count": null,
      "outputs": []
    },
    {
      "cell_type": "code",
      "source": [
        "X_train"
      ],
      "metadata": {
        "colab": {
          "base_uri": "https://localhost:8080/"
        },
        "id": "SoGEOBkI5dcM",
        "outputId": "7d26eea4-25eb-439e-8b32-635a2099e172"
      },
      "execution_count": null,
      "outputs": [
        {
          "output_type": "execute_result",
          "data": {
            "text/plain": [
              "array([[0.        , 0.        , 0.2       , ..., 0.12109375, 0.25      ,\n",
              "        0.32380952],\n",
              "       [0.        , 0.00632911, 0.2       , ..., 0.12109375, 0.25      ,\n",
              "        0.3047619 ],\n",
              "       [0.        , 0.01265823, 0.2       , ..., 0.125     , 0.25      ,\n",
              "        0.2952381 ],\n",
              "       ...,\n",
              "       [1.        , 0.96835443, 0.68571429, ..., 0.54296875, 0.25      ,\n",
              "        0.48571429],\n",
              "       [1.        , 0.97468354, 0.68571429, ..., 0.55078125, 0.25      ,\n",
              "        0.5047619 ],\n",
              "       [1.        , 0.98101266, 0.68571429, ..., 0.55078125, 0.375     ,\n",
              "        0.4952381 ]])"
            ]
          },
          "metadata": {},
          "execution_count": 25
        }
      ]
    },
    {
      "cell_type": "markdown",
      "source": [
        "## Defining NN Architecture"
      ],
      "metadata": {
        "id": "7QH38VEh1NRo"
      }
    },
    {
      "cell_type": "code",
      "source": [
        "callback = EarlyStopping(monitor='loss', patience=3)"
      ],
      "metadata": {
        "id": "RV7iyVYF3Z-d"
      },
      "execution_count": null,
      "outputs": []
    },
    {
      "cell_type": "code",
      "source": [
        "\n",
        "def create_model(a,b,c,d,e,f,num_epochs,af,drop,opt,lossfn):\n",
        "  nn_model = Sequential()\n",
        "  # The Input Layer :\n",
        "  nn_model.add(Dense(a, kernel_initializer='he_normal', activation=af))\n",
        "  nn_model.add(Dropout(0.3))\n",
        "  nn_model.add(BatchNormalization(momentum = 0.9))\n",
        "\n",
        "  # The Hidden Layers :\n",
        "  nn_model.add(Dense(b, kernel_initializer='he_normal',activation=af))\n",
        "  nn_model.add(Dropout(drop))\n",
        "  nn_model.add(BatchNormalization(momentum = 0.9,epsilon=1e-05))\n",
        "\n",
        "  nn_model.add(Dense(c, kernel_initializer='he_normal',activation=af))\n",
        "  nn_model.add(Dropout(drop))\n",
        "  nn_model.add(BatchNormalization(momentum = 0.9,epsilon=1e-05))\n",
        "\n",
        "  nn_model.add(Dense(d, kernel_initializer='he_normal',activation=af))\n",
        "  nn_model.add(Dropout(drop))\n",
        "  nn_model.add(BatchNormalization(momentum = 0.9,epsilon=1e-05))\n",
        "\n",
        "  nn_model.add(Dense(e, kernel_initializer='he_normal',activation=af))\n",
        "  nn_model.add(Dropout(drop))\n",
        "  nn_model.add(BatchNormalization(momentum = 0.9,epsilon=1e-05 ))\n",
        "  \n",
        "  nn_model.add(Dense(f, kernel_initializer='he_normal',activation=af))\n",
        "  nn_model.add(Dropout(drop))\n",
        "  nn_model.add(BatchNormalization(momentum = 0.9,epsilon=1e-05))\n",
        "\n",
        "  # The Output Layer :\n",
        "  nn_model.add(Dense(1))\n",
        "\n",
        "  # Compile the network :\n",
        "  nn_model.compile(loss=lossfn, optimizer=opt,metrics=[tf.keras.metrics.MeanSquaredError(),tf.keras.metrics.MeanAbsoluteError()])\n",
        "  history = nn_model.fit(x=X_train, y=y_train, epochs=num_epochs,validation_data=(X_test,y_test),callbacks=[callback],verbose=0 )\n",
        "  summary = nn_model.summary()\n",
        "  score = nn_model.evaluate(X_test,y_test,verbose =0)\n",
        "  return nn_model ,history ,summary ,score\n",
        "\n",
        "          "
      ],
      "metadata": {
        "id": "SkNnpau71kYH"
      },
      "execution_count": null,
      "outputs": []
    },
    {
      "cell_type": "markdown",
      "source": [
        "### Tuning Loss Function"
      ],
      "metadata": {
        "id": "kP4Sokyu--yI"
      }
    },
    {
      "cell_type": "code",
      "source": [
        "m1, h1, sum1, score1 = create_model(64, 128, 256, 128, 128, 64,100,'linear',0.3,'adam','mse')"
      ],
      "metadata": {
        "colab": {
          "base_uri": "https://localhost:8080/"
        },
        "id": "NGWDPX3y3h4A",
        "outputId": "26b789d9-b85b-45c9-d21c-54901dd474fe"
      },
      "execution_count": null,
      "outputs": [
        {
          "output_type": "stream",
          "name": "stdout",
          "text": [
            "Model: \"sequential_5\"\n",
            "_________________________________________________________________\n",
            " Layer (type)                Output Shape              Param #   \n",
            "=================================================================\n",
            " dense_35 (Dense)            (None, 64)                832       \n",
            "                                                                 \n",
            " dropout_30 (Dropout)        (None, 64)                0         \n",
            "                                                                 \n",
            " batch_normalization_30 (Bat  (None, 64)               256       \n",
            " chNormalization)                                                \n",
            "                                                                 \n",
            " dense_36 (Dense)            (None, 128)               8320      \n",
            "                                                                 \n",
            " dropout_31 (Dropout)        (None, 128)               0         \n",
            "                                                                 \n",
            " batch_normalization_31 (Bat  (None, 128)              512       \n",
            " chNormalization)                                                \n",
            "                                                                 \n",
            " dense_37 (Dense)            (None, 256)               33024     \n",
            "                                                                 \n",
            " dropout_32 (Dropout)        (None, 256)               0         \n",
            "                                                                 \n",
            " batch_normalization_32 (Bat  (None, 256)              1024      \n",
            " chNormalization)                                                \n",
            "                                                                 \n",
            " dense_38 (Dense)            (None, 128)               32896     \n",
            "                                                                 \n",
            " dropout_33 (Dropout)        (None, 128)               0         \n",
            "                                                                 \n",
            " batch_normalization_33 (Bat  (None, 128)              512       \n",
            " chNormalization)                                                \n",
            "                                                                 \n",
            " dense_39 (Dense)            (None, 128)               16512     \n",
            "                                                                 \n",
            " dropout_34 (Dropout)        (None, 128)               0         \n",
            "                                                                 \n",
            " batch_normalization_34 (Bat  (None, 128)              512       \n",
            " chNormalization)                                                \n",
            "                                                                 \n",
            " dense_40 (Dense)            (None, 64)                8256      \n",
            "                                                                 \n",
            " dropout_35 (Dropout)        (None, 64)                0         \n",
            "                                                                 \n",
            " batch_normalization_35 (Bat  (None, 64)               256       \n",
            " chNormalization)                                                \n",
            "                                                                 \n",
            " dense_41 (Dense)            (None, 1)                 65        \n",
            "                                                                 \n",
            "=================================================================\n",
            "Total params: 102,977\n",
            "Trainable params: 101,441\n",
            "Non-trainable params: 1,536\n",
            "_________________________________________________________________\n"
          ]
        }
      ]
    },
    {
      "cell_type": "code",
      "source": [
        "print(h1.history.keys())"
      ],
      "metadata": {
        "colab": {
          "base_uri": "https://localhost:8080/"
        },
        "id": "47dMx2_F4hjP",
        "outputId": "99b91dca-2e78-4c3f-e4d5-621348d812f5"
      },
      "execution_count": null,
      "outputs": [
        {
          "output_type": "stream",
          "name": "stdout",
          "text": [
            "dict_keys(['loss', 'mean_squared_error', 'mean_absolute_error', 'val_loss', 'val_mean_squared_error', 'val_mean_absolute_error'])\n"
          ]
        }
      ]
    },
    {
      "cell_type": "code",
      "source": [
        "print(score1)\n",
        "# mse mse mae"
      ],
      "metadata": {
        "colab": {
          "base_uri": "https://localhost:8080/"
        },
        "id": "MiEgM48G60ff",
        "outputId": "a9c01da7-3f8a-466a-c41c-6b64575e0807"
      },
      "execution_count": null,
      "outputs": [
        {
          "output_type": "stream",
          "name": "stdout",
          "text": [
            "[363.7919921875, 363.7919921875, 14.634840965270996]\n"
          ]
        }
      ]
    },
    {
      "cell_type": "code",
      "source": [
        "# summarize history for loss\n",
        "plt.plot(h1.history['loss'],'g',label='Training loss')\n",
        "plt.plot(h1.history['val_loss'],'b',label='validation loss')\n",
        "plt.title('Model loss (MSE)')\n",
        "plt.ylabel('loss')\n",
        "plt.xlabel('epoch')\n",
        "plt.legend(loc='upper right')\n",
        "plt.axis([0,14,0,1000])\n",
        "plt.show()"
      ],
      "metadata": {
        "colab": {
          "base_uri": "https://localhost:8080/",
          "height": 295
        },
        "id": "a-aoaLQY7Fqz",
        "outputId": "d753830a-d8e2-46dd-fe30-5c6714d33f7e"
      },
      "execution_count": null,
      "outputs": [
        {
          "output_type": "display_data",
          "data": {
            "image/png": "[encoded data removed]",
            "text/plain": [
              "<Figure size 432x288 with 1 Axes>"
            ]
          },
          "metadata": {
            "needs_background": "light"
          }
        }
      ]
    },
    {
      "cell_type": "code",
      "source": [
        "plt.plot(h1.history['mean_absolute_error'],'g',label='Training loss')\n",
        "plt.plot(h1.history['val_mean_absolute_error'],'b',label='Validation loss')\n",
        "plt.title('Model loss ')\n",
        "plt.ylabel('loss')\n",
        "plt.xlabel('epoch')\n",
        "plt.legend(loc='upper right')\n",
        "plt.axis([0,14,0,30])\n",
        "plt.show()"
      ],
      "metadata": {
        "colab": {
          "base_uri": "https://localhost:8080/",
          "height": 295
        },
        "id": "FjnSr7Su7d9Q",
        "outputId": "a2d8f9ce-f4b4-4874-c0fc-be964b035cea"
      },
      "execution_count": null,
      "outputs": [
        {
          "output_type": "display_data",
          "data": {
            "image/png": "[encoded data removed]",
            "text/plain": [
              "<Figure size 432x288 with 1 Axes>"
            ]
          },
          "metadata": {
            "needs_background": "light"
          }
        }
      ]
    },
    {
      "cell_type": "code",
      "source": [
        "y_pred = m1.predict(X_test).reshape(-1)"
      ],
      "metadata": {
        "id": "mTqxZW2z9Zem"
      },
      "execution_count": null,
      "outputs": []
    },
    {
      "cell_type": "code",
      "source": [
        "y_pred"
      ],
      "metadata": {
        "colab": {
          "base_uri": "https://localhost:8080/"
        },
        "id": "4jb31wbz-Yfl",
        "outputId": "f86eefaa-80d2-4593-d152-954f2d48d110"
      },
      "execution_count": null,
      "outputs": [
        {
          "output_type": "execute_result",
          "data": {
            "text/plain": [
              "array([181.41806, 185.01715, 183.89774, ..., 166.34824, 162.07614,\n",
              "       162.47258], dtype=float32)"
            ]
          },
          "metadata": {},
          "execution_count": 65
        }
      ]
    },
    {
      "cell_type": "code",
      "source": [
        "result = eval(y_test.values,y_pred)"
      ],
      "metadata": {
        "id": "bSUjcdRo-Ojl"
      },
      "execution_count": null,
      "outputs": []
    },
    {
      "cell_type": "code",
      "source": [
        "print(result)"
      ],
      "metadata": {
        "colab": {
          "base_uri": "https://localhost:8080/"
        },
        "id": "4bj_QhDh-gm3",
        "outputId": "a1a95d83-cd3b-4abf-e5b8-217bca82407d"
      },
      "execution_count": null,
      "outputs": [
        {
          "output_type": "stream",
          "name": "stdout",
          "text": [
            "{'MAE': 14.634849075353156, 'RMSE': 19.073331568413344, 'R2score': 0.5404468294032202, 'Custom Accuracy': 43.83954154727794}\n"
          ]
        }
      ]
    },
    {
      "cell_type": "code",
      "source": [
        "plotvals(y_test.values,y_pred)"
      ],
      "metadata": {
        "colab": {
          "base_uri": "https://localhost:8080/",
          "height": 392
        },
        "id": "M1OjOWNl-pqb",
        "outputId": "b1e04240-3cee-4c3b-e7b5-13e4fc9ab569"
      },
      "execution_count": null,
      "outputs": [
        {
          "output_type": "display_data",
          "data": {
            "image/png": "[encoded data removed]",
            "text/plain": [
              "<Figure size 648x432 with 1 Axes>"
            ]
          },
          "metadata": {
            "needs_background": "light"
          }
        }
      ]
    },
    {
      "cell_type": "code",
      "source": [
        "m2, h2, sum2, score2 = create_model(64, 128, 256, 128, 128, 64,100,'linear',0.3,'adam','mae')"
      ],
      "metadata": {
        "colab": {
          "base_uri": "https://localhost:8080/"
        },
        "id": "Bk8H8h1x-usl",
        "outputId": "0d9bbb84-57ac-44fd-b15d-90b67b5b181f"
      },
      "execution_count": null,
      "outputs": [
        {
          "output_type": "stream",
          "name": "stdout",
          "text": [
            "Model: \"sequential_7\"\n",
            "_________________________________________________________________\n",
            " Layer (type)                Output Shape              Param #   \n",
            "=================================================================\n",
            " dense_49 (Dense)            (None, 64)                832       \n",
            "                                                                 \n",
            " dropout_42 (Dropout)        (None, 64)                0         \n",
            "                                                                 \n",
            " batch_normalization_42 (Bat  (None, 64)               256       \n",
            " chNormalization)                                                \n",
            "                                                                 \n",
            " dense_50 (Dense)            (None, 128)               8320      \n",
            "                                                                 \n",
            " dropout_43 (Dropout)        (None, 128)               0         \n",
            "                                                                 \n",
            " batch_normalization_43 (Bat  (None, 128)              512       \n",
            " chNormalization)                                                \n",
            "                                                                 \n",
            " dense_51 (Dense)            (None, 256)               33024     \n",
            "                                                                 \n",
            " dropout_44 (Dropout)        (None, 256)               0         \n",
            "                                                                 \n",
            " batch_normalization_44 (Bat  (None, 256)              1024      \n",
            " chNormalization)                                                \n",
            "                                                                 \n",
            " dense_52 (Dense)            (None, 128)               32896     \n",
            "                                                                 \n",
            " dropout_45 (Dropout)        (None, 128)               0         \n",
            "                                                                 \n",
            " batch_normalization_45 (Bat  (None, 128)              512       \n",
            " chNormalization)                                                \n",
            "                                                                 \n",
            " dense_53 (Dense)            (None, 128)               16512     \n",
            "                                                                 \n",
            " dropout_46 (Dropout)        (None, 128)               0         \n",
            "                                                                 \n",
            " batch_normalization_46 (Bat  (None, 128)              512       \n",
            " chNormalization)                                                \n",
            "                                                                 \n",
            " dense_54 (Dense)            (None, 64)                8256      \n",
            "                                                                 \n",
            " dropout_47 (Dropout)        (None, 64)                0         \n",
            "                                                                 \n",
            " batch_normalization_47 (Bat  (None, 64)               256       \n",
            " chNormalization)                                                \n",
            "                                                                 \n",
            " dense_55 (Dense)            (None, 1)                 65        \n",
            "                                                                 \n",
            "=================================================================\n",
            "Total params: 102,977\n",
            "Trainable params: 101,441\n",
            "Non-trainable params: 1,536\n",
            "_________________________________________________________________\n"
          ]
        }
      ]
    },
    {
      "cell_type": "code",
      "source": [
        "print(score2)\n",
        "# mae mse mae"
      ],
      "metadata": {
        "colab": {
          "base_uri": "https://localhost:8080/"
        },
        "id": "e9ecnbd3AVaP",
        "outputId": "00be85eb-c6a7-410f-b467-f18c2cf6420a"
      },
      "execution_count": null,
      "outputs": [
        {
          "output_type": "stream",
          "name": "stdout",
          "text": [
            "[14.443499565124512, 362.9517822265625, 14.443499565124512]\n"
          ]
        }
      ]
    },
    {
      "cell_type": "code",
      "source": [
        "# summarize history for loss\n",
        "plt.plot(h2.history['loss'],'g',label='Training loss')\n",
        "plt.plot(h2.history['val_loss'],'b',label='validation loss')\n",
        "plt.title('Model loss (MAE)')\n",
        "plt.ylabel('loss')\n",
        "plt.xlabel('epoch')\n",
        "plt.legend(loc='upper right')\n",
        "plt.axis([0,14,0,1000])\n",
        "plt.show()"
      ],
      "metadata": {
        "colab": {
          "base_uri": "https://localhost:8080/",
          "height": 295
        },
        "id": "nwMrJHVnAbag",
        "outputId": "682da1e8-4dc1-4210-c2c3-374bb7cf0523"
      },
      "execution_count": null,
      "outputs": [
        {
          "output_type": "display_data",
          "data": {
            "image/png": "[encoded data removed]",
            "text/plain": [
              "<Figure size 432x288 with 1 Axes>"
            ]
          },
          "metadata": {
            "needs_background": "light"
          }
        }
      ]
    },
    {
      "cell_type": "code",
      "source": [
        "h2.history.keys()"
      ],
      "metadata": {
        "colab": {
          "base_uri": "https://localhost:8080/"
        },
        "id": "B0sA0yKyAsEP",
        "outputId": "694d3905-d995-4e59-e7db-754167b766eb"
      },
      "execution_count": null,
      "outputs": [
        {
          "output_type": "execute_result",
          "data": {
            "text/plain": [
              "dict_keys(['loss', 'mean_squared_error', 'mean_absolute_error', 'val_loss', 'val_mean_squared_error', 'val_mean_absolute_error'])"
            ]
          },
          "metadata": {},
          "execution_count": 77
        }
      ]
    },
    {
      "cell_type": "code",
      "source": [
        "# summarize history for loss\n",
        "plt.plot(h2.history['mean_squared_error'],'g',label='Training loss')\n",
        "plt.plot(h2.history['val_mean_squared_error'],'b',label='validation loss')\n",
        "plt.title('Model loss (MSE)')\n",
        "plt.ylabel('loss')\n",
        "plt.xlabel('epoch')\n",
        "plt.legend(loc='upper right')\n",
        "# plt.axis([0,14,0,1000])\n",
        "plt.show()"
      ],
      "metadata": {
        "colab": {
          "base_uri": "https://localhost:8080/",
          "height": 295
        },
        "id": "7EmnwVSJAqhz",
        "outputId": "677b2ac5-d0bf-4899-d2ad-7bd540e3ffa6"
      },
      "execution_count": null,
      "outputs": [
        {
          "output_type": "display_data",
          "data": {
            "image/png": "[encoded data removed]",
            "text/plain": [
              "<Figure size 432x288 with 1 Axes>"
            ]
          },
          "metadata": {
            "needs_background": "light"
          }
        }
      ]
    },
    {
      "cell_type": "code",
      "source": [
        "y_pred = m2.predict(X_test)\n",
        "result = eval(y_test.values,y_pred)"
      ],
      "metadata": {
        "id": "NKeaxKrRA2-T"
      },
      "execution_count": null,
      "outputs": []
    },
    {
      "cell_type": "code",
      "source": [
        "print(result)"
      ],
      "metadata": {
        "colab": {
          "base_uri": "https://localhost:8080/"
        },
        "id": "NDYdXXUFBTbw",
        "outputId": "a0232e95-d512-43a7-dd5f-ac4dfe2ddb52"
      },
      "execution_count": null,
      "outputs": [
        {
          "output_type": "stream",
          "name": "stdout",
          "text": [
            "{'MAE': 14.443500994766525, 'RMSE': 19.0512916207314, 'R2score': 0.5415082775151487, 'Custom Accuracy': 46.25336459147347}\n"
          ]
        }
      ]
    },
    {
      "cell_type": "markdown",
      "source": [
        "MAE performed slightly better"
      ],
      "metadata": {
        "id": "X4glrsfFBXph"
      }
    },
    {
      "cell_type": "markdown",
      "source": [
        "### Experimenting with more hidden layers"
      ],
      "metadata": {
        "id": "X_Ir31ZbBXs3"
      }
    },
    {
      "cell_type": "code",
      "source": [
        "\n",
        "def create_model_big(a,b,c,d,e,f,g,h,num_epochs,af,drop,opt,lossfn):\n",
        "  nn_model = Sequential()\n",
        "  # The Input Layer :\n",
        "  nn_model.add(Dense(a, kernel_initializer='he_normal', activation=af))\n",
        "  nn_model.add(Dropout(0.3))\n",
        "  nn_model.add(BatchNormalization(momentum = 0.9))\n",
        "\n",
        "  # The Hidden Layers :\n",
        "  nn_model.add(Dense(b, kernel_initializer='he_normal',activation=af))\n",
        "  nn_model.add(Dropout(drop))\n",
        "  nn_model.add(BatchNormalization(momentum = 0.9,epsilon=1e-05))\n",
        "\n",
        "  nn_model.add(Dense(c, kernel_initializer='he_normal',activation=af))\n",
        "  nn_model.add(Dropout(drop))\n",
        "  nn_model.add(BatchNormalization(momentum = 0.9,epsilon=1e-05))\n",
        "\n",
        "  nn_model.add(Dense(d, kernel_initializer='he_normal',activation=af))\n",
        "  nn_model.add(Dropout(drop))\n",
        "  nn_model.add(BatchNormalization(momentum = 0.9,epsilon=1e-05))\n",
        "\n",
        "  nn_model.add(Dense(e, kernel_initializer='he_normal',activation=af))\n",
        "  nn_model.add(Dropout(drop))\n",
        "  nn_model.add(BatchNormalization(momentum = 0.9,epsilon=1e-05 ))\n",
        "  \n",
        "  nn_model.add(Dense(f, kernel_initializer='he_normal',activation=af))\n",
        "  nn_model.add(Dropout(drop))\n",
        "  nn_model.add(BatchNormalization(momentum = 0.9,epsilon=1e-05))\n",
        "\n",
        "  nn_model.add(Dense(g, kernel_initializer='he_normal',activation=af))\n",
        "  nn_model.add(Dropout(drop))\n",
        "  nn_model.add(BatchNormalization(momentum = 0.9,epsilon=1e-05))\n",
        "\n",
        "  nn_model.add(Dense(h, kernel_initializer='he_normal',activation=af))\n",
        "  nn_model.add(Dropout(drop))\n",
        "  nn_model.add(BatchNormalization(momentum = 0.9,epsilon=1e-05))\n",
        "  # The Output Layer :\n",
        "  nn_model.add(Dense(1))\n",
        "\n",
        "  # Compile the network :\n",
        "  nn_model.compile(loss=lossfn, optimizer=opt,metrics=['accuracy',tf.keras.metrics.MeanSquaredError(),tf.keras.metrics.MeanAbsoluteError()])\n",
        "  history = nn_model.fit(x=X_train, y=y_train, epochs=num_epochs,validation_data=(X_test,y_test),callbacks=[callback],verbose=0 )\n",
        "  summary = nn_model.summary()\n",
        "  score = nn_model.evaluate(X_test,y_test,verbose =0)\n",
        "  return nn_model ,history ,summary ,score\n",
        "\n",
        "          "
      ],
      "metadata": {
        "id": "LeV9cB-ABYr6"
      },
      "execution_count": null,
      "outputs": []
    },
    {
      "cell_type": "code",
      "source": [
        "m3, h3, sum3, score3 = create_model_big(64, 128, 256, 128,256, 128, 64,32,100,'linear',0.3,'adam','mae')"
      ],
      "metadata": {
        "colab": {
          "base_uri": "https://localhost:8080/"
        },
        "id": "2DRuPU4hBYwo",
        "outputId": "dd13de82-b5dc-4e08-98d4-2e65d003752d"
      },
      "execution_count": null,
      "outputs": [
        {
          "output_type": "stream",
          "name": "stdout",
          "text": [
            "Model: \"sequential_8\"\n",
            "_________________________________________________________________\n",
            " Layer (type)                Output Shape              Param #   \n",
            "=================================================================\n",
            " dense_56 (Dense)            (None, 64)                832       \n",
            "                                                                 \n",
            " dropout_48 (Dropout)        (None, 64)                0         \n",
            "                                                                 \n",
            " batch_normalization_48 (Bat  (None, 64)               256       \n",
            " chNormalization)                                                \n",
            "                                                                 \n",
            " dense_57 (Dense)            (None, 128)               8320      \n",
            "                                                                 \n",
            " dropout_49 (Dropout)        (None, 128)               0         \n",
            "                                                                 \n",
            " batch_normalization_49 (Bat  (None, 128)              512       \n",
            " chNormalization)                                                \n",
            "                                                                 \n",
            " dense_58 (Dense)            (None, 256)               33024     \n",
            "                                                                 \n",
            " dropout_50 (Dropout)        (None, 256)               0         \n",
            "                                                                 \n",
            " batch_normalization_50 (Bat  (None, 256)              1024      \n",
            " chNormalization)                                                \n",
            "                                                                 \n",
            " dense_59 (Dense)            (None, 128)               32896     \n",
            "                                                                 \n",
            " dropout_51 (Dropout)        (None, 128)               0         \n",
            "                                                                 \n",
            " batch_normalization_51 (Bat  (None, 128)              512       \n",
            " chNormalization)                                                \n",
            "                                                                 \n",
            " dense_60 (Dense)            (None, 256)               33024     \n",
            "                                                                 \n",
            " dropout_52 (Dropout)        (None, 256)               0         \n",
            "                                                                 \n",
            " batch_normalization_52 (Bat  (None, 256)              1024      \n",
            " chNormalization)                                                \n",
            "                                                                 \n",
            " dense_61 (Dense)            (None, 128)               32896     \n",
            "                                                                 \n",
            " dropout_53 (Dropout)        (None, 128)               0         \n",
            "                                                                 \n",
            " batch_normalization_53 (Bat  (None, 128)              512       \n",
            " chNormalization)                                                \n",
            "                                                                 \n",
            " dense_62 (Dense)            (None, 64)                8256      \n",
            "                                                                 \n",
            " dropout_54 (Dropout)        (None, 64)                0         \n",
            "                                                                 \n",
            " batch_normalization_54 (Bat  (None, 64)               256       \n",
            " chNormalization)                                                \n",
            "                                                                 \n",
            " dense_63 (Dense)            (None, 32)                2080      \n",
            "                                                                 \n",
            " dropout_55 (Dropout)        (None, 32)                0         \n",
            "                                                                 \n",
            " batch_normalization_55 (Bat  (None, 32)               128       \n",
            " chNormalization)                                                \n",
            "                                                                 \n",
            " dense_64 (Dense)            (None, 1)                 33        \n",
            "                                                                 \n",
            "=================================================================\n",
            "Total params: 155,585\n",
            "Trainable params: 153,473\n",
            "Non-trainable params: 2,112\n",
            "_________________________________________________________________\n"
          ]
        }
      ]
    },
    {
      "cell_type": "code",
      "source": [
        "print(score3)"
      ],
      "metadata": {
        "colab": {
          "base_uri": "https://localhost:8080/"
        },
        "id": "4C86LKhABY0D",
        "outputId": "15404212-d306-49ad-876f-f4bf4a221f81"
      },
      "execution_count": null,
      "outputs": [
        {
          "output_type": "stream",
          "name": "stdout",
          "text": [
            "[14.622820854187012, 0.0, 371.3631286621094, 14.622820854187012]\n"
          ]
        }
      ]
    },
    {
      "cell_type": "code",
      "source": [
        "h3.history.keys()"
      ],
      "metadata": {
        "colab": {
          "base_uri": "https://localhost:8080/"
        },
        "id": "hmZM4jAzBY3b",
        "outputId": "00fb68ee-2802-4a6a-95ae-f73079424ad5"
      },
      "execution_count": null,
      "outputs": [
        {
          "output_type": "execute_result",
          "data": {
            "text/plain": [
              "dict_keys(['loss', 'accuracy', 'mean_squared_error', 'mean_absolute_error', 'val_loss', 'val_accuracy', 'val_mean_squared_error', 'val_mean_absolute_error'])"
            ]
          },
          "metadata": {},
          "execution_count": 90
        }
      ]
    },
    {
      "cell_type": "code",
      "source": [
        "# summarize history for loss\n",
        "plt.plot(h2.history['mean_squared_error'],'g',label='Training loss')\n",
        "plt.plot(h2.history['val_mean_squared_error'],'b',label='validation loss')\n",
        "plt.title('Model loss (MSE)')\n",
        "plt.ylabel('loss')\n",
        "plt.xlabel('epoch')\n",
        "plt.legend(loc='upper right')\n",
        "plt.axis([0,23,0,700])\n",
        "plt.show()"
      ],
      "metadata": {
        "colab": {
          "base_uri": "https://localhost:8080/",
          "height": 295
        },
        "id": "2rEJqERxBY7C",
        "outputId": "05beb667-2460-4acc-dd64-f0567e367b55"
      },
      "execution_count": null,
      "outputs": [
        {
          "output_type": "display_data",
          "data": {
            "image/png": "[encoded data removed]",
            "text/plain": [
              "<Figure size 432x288 with 1 Axes>"
            ]
          },
          "metadata": {
            "needs_background": "light"
          }
        }
      ]
    },
    {
      "cell_type": "code",
      "source": [
        "y_pred = m3.predict(X_test)\n",
        "result = eval(y_test.values,y_pred)"
      ],
      "metadata": {
        "id": "rAAkG995BZAE"
      },
      "execution_count": null,
      "outputs": []
    },
    {
      "cell_type": "code",
      "source": [
        "print(result)"
      ],
      "metadata": {
        "colab": {
          "base_uri": "https://localhost:8080/"
        },
        "id": "ceHMZojeBZCq",
        "outputId": "64c245dc-c871-4a6f-ec4c-080c1614b213"
      },
      "execution_count": null,
      "outputs": [
        {
          "output_type": "stream",
          "name": "stdout",
          "text": [
            "{'MAE': 14.622814977708309, 'RMSE': 19.270785554689734, 'R2score': 0.5308826591585063, 'Custom Accuracy': 46.18390205782756}\n"
          ]
        }
      ]
    },
    {
      "cell_type": "markdown",
      "source": [
        "Accuracy is slightly less than before. This means increasing hidden layers isn't going to increase accuracy by much."
      ],
      "metadata": {
        "id": "l86pnsDTEwgR"
      }
    },
    {
      "cell_type": "markdown",
      "source": [
        "### Experimenting with Batch-Size"
      ],
      "metadata": {
        "id": "OoRTtN8NFGN-"
      }
    },
    {
      "cell_type": "code",
      "source": [
        "\n",
        "def create_model_batch(a,b,c,d,e,f,num_epochs,af,drop,opt,lossfn,batch) :\n",
        "  nn_model = Sequential()\n",
        "  # The Input Layer :\n",
        "  nn_model.add(Dense(a, kernel_initializer='he_normal', activation=af))\n",
        "  nn_model.add(Dropout(0.3))\n",
        "  nn_model.add(BatchNormalization(momentum = 0.9))\n",
        "\n",
        "  # The Hidden Layers :\n",
        "  nn_model.add(Dense(b, kernel_initializer='he_normal',activation=af))\n",
        "  nn_model.add(Dropout(drop))\n",
        "  nn_model.add(BatchNormalization(momentum = 0.9,epsilon=1e-05))\n",
        "\n",
        "  nn_model.add(Dense(c, kernel_initializer='he_normal',activation=af))\n",
        "  nn_model.add(Dropout(drop))\n",
        "  nn_model.add(BatchNormalization(momentum = 0.9,epsilon=1e-05))\n",
        "\n",
        "  nn_model.add(Dense(d, kernel_initializer='he_normal',activation=af))\n",
        "  nn_model.add(Dropout(drop))\n",
        "  nn_model.add(BatchNormalization(momentum = 0.9,epsilon=1e-05))\n",
        "\n",
        "  nn_model.add(Dense(e, kernel_initializer='he_normal',activation=af))\n",
        "  nn_model.add(Dropout(drop))\n",
        "  nn_model.add(BatchNormalization(momentum = 0.9,epsilon=1e-05 ))\n",
        "  \n",
        "  nn_model.add(Dense(f, kernel_initializer='he_normal',activation=af))\n",
        "  nn_model.add(Dropout(drop))\n",
        "  nn_model.add(BatchNormalization(momentum = 0.9,epsilon=1e-05))\n",
        "\n",
        "  # The Output Layer :\n",
        "  nn_model.add(Dense(1))\n",
        "\n",
        "  # Compile the network :\n",
        "  nn_model.compile(loss=lossfn, optimizer=opt,metrics=[tf.keras.metrics.MeanSquaredError(),tf.keras.metrics.MeanAbsoluteError()])\n",
        "  history = nn_model.fit(x=X_train, y=y_train, epochs=num_epochs,validation_data=(X_test,y_test),callbacks=[callback],verbose=0,batch_size=batch )\n",
        "  summary = nn_model.summary()\n",
        "  score = nn_model.evaluate(X_test,y_test,verbose =0)\n",
        "  return nn_model ,history ,summary ,score\n",
        "\n",
        "          "
      ],
      "metadata": {
        "id": "kIt82UpyFXML"
      },
      "execution_count": null,
      "outputs": []
    },
    {
      "cell_type": "markdown",
      "source": [
        "By default, the batch size in tf.keras is 32"
      ],
      "metadata": {
        "id": "3wGkaoEtFg2z"
      }
    },
    {
      "cell_type": "code",
      "source": [
        "m4, h4, sum4, score4 = create_model_batch(64, 128, 256, 128, 128, 64,100,'linear',0.3,'adam','mae',128)"
      ],
      "metadata": {
        "colab": {
          "base_uri": "https://localhost:8080/"
        },
        "id": "RKRJLUdUE_9C",
        "outputId": "0dfc955e-6409-4bf6-beb0-e5f29d46df2f"
      },
      "execution_count": null,
      "outputs": [
        {
          "output_type": "stream",
          "name": "stdout",
          "text": [
            "Model: \"sequential_9\"\n",
            "_________________________________________________________________\n",
            " Layer (type)                Output Shape              Param #   \n",
            "=================================================================\n",
            " dense_65 (Dense)            (None, 64)                832       \n",
            "                                                                 \n",
            " dropout_56 (Dropout)        (None, 64)                0         \n",
            "                                                                 \n",
            " batch_normalization_56 (Bat  (None, 64)               256       \n",
            " chNormalization)                                                \n",
            "                                                                 \n",
            " dense_66 (Dense)            (None, 128)               8320      \n",
            "                                                                 \n",
            " dropout_57 (Dropout)        (None, 128)               0         \n",
            "                                                                 \n",
            " batch_normalization_57 (Bat  (None, 128)              512       \n",
            " chNormalization)                                                \n",
            "                                                                 \n",
            " dense_67 (Dense)            (None, 256)               33024     \n",
            "                                                                 \n",
            " dropout_58 (Dropout)        (None, 256)               0         \n",
            "                                                                 \n",
            " batch_normalization_58 (Bat  (None, 256)              1024      \n",
            " chNormalization)                                                \n",
            "                                                                 \n",
            " dense_68 (Dense)            (None, 128)               32896     \n",
            "                                                                 \n",
            " dropout_59 (Dropout)        (None, 128)               0         \n",
            "                                                                 \n",
            " batch_normalization_59 (Bat  (None, 128)              512       \n",
            " chNormalization)                                                \n",
            "                                                                 \n",
            " dense_69 (Dense)            (None, 128)               16512     \n",
            "                                                                 \n",
            " dropout_60 (Dropout)        (None, 128)               0         \n",
            "                                                                 \n",
            " batch_normalization_60 (Bat  (None, 128)              512       \n",
            " chNormalization)                                                \n",
            "                                                                 \n",
            " dense_70 (Dense)            (None, 64)                8256      \n",
            "                                                                 \n",
            " dropout_61 (Dropout)        (None, 64)                0         \n",
            "                                                                 \n",
            " batch_normalization_61 (Bat  (None, 64)               256       \n",
            " chNormalization)                                                \n",
            "                                                                 \n",
            " dense_71 (Dense)            (None, 1)                 65        \n",
            "                                                                 \n",
            "=================================================================\n",
            "Total params: 102,977\n",
            "Trainable params: 101,441\n",
            "Non-trainable params: 1,536\n",
            "_________________________________________________________________\n"
          ]
        }
      ]
    },
    {
      "cell_type": "code",
      "source": [
        "y_pred = m4.predict(X_test)\n",
        "result = eval(y_test.values,y_pred)"
      ],
      "metadata": {
        "id": "W_IgwAgpGpmd"
      },
      "execution_count": null,
      "outputs": []
    },
    {
      "cell_type": "code",
      "source": [
        "print(result)"
      ],
      "metadata": {
        "colab": {
          "base_uri": "https://localhost:8080/"
        },
        "outputId": "a4bec636-4dd8-4beb-d969-4b86e600f25f",
        "id": "pp5O2vPfGpme"
      },
      "execution_count": null,
      "outputs": [
        {
          "output_type": "stream",
          "name": "stdout",
          "text": [
            "{'MAE': 14.453784262625781, 'RMSE': 19.062205448473673, 'R2score': 0.5409828188679499, 'Custom Accuracy': 45.60215333854302}\n"
          ]
        }
      ]
    },
    {
      "cell_type": "markdown",
      "source": [
        "Accuracy reduced on increasing batch_size. Let us try decreasing once."
      ],
      "metadata": {
        "id": "uybvhU0yGti1"
      }
    },
    {
      "cell_type": "markdown",
      "source": [
        "The results obtained for batch_size=16 are given below."
      ],
      "metadata": {
        "id": "ArdpQGulKMe2"
      }
    },
    {
      "cell_type": "code",
      "source": [
        "print(result)"
      ],
      "metadata": {
        "colab": {
          "base_uri": "https://localhost:8080/"
        },
        "outputId": "45464870-4423-437a-a4ca-1218d8e5cc1d",
        "id": "QGTxBPHXHD3b"
      },
      "execution_count": null,
      "outputs": [
        {
          "output_type": "stream",
          "name": "stdout",
          "text": [
            "{'MAE': 14.565362438597054, 'RMSE': 19.1774901935152, 'R2score': 0.53541392527072, 'Custom Accuracy': 44.37787618303378}\n"
          ]
        }
      ]
    },
    {
      "cell_type": "markdown",
      "source": [
        "Thus, 32 is the optimum batch-size"
      ],
      "metadata": {
        "id": "KN6XtHwkIUvZ"
      }
    },
    {
      "cell_type": "markdown",
      "source": [
        "## Final Model"
      ],
      "metadata": {
        "id": "RShdtomeIZoc"
      }
    },
    {
      "cell_type": "markdown",
      "source": [
        "From the graphs it appears that the LR is high. So, let us try a lesser LR."
      ],
      "metadata": {
        "id": "AIsgLSBgIeG3"
      }
    },
    {
      "cell_type": "code",
      "source": [
        "m6, h6, sum6, score6 = create_model(64, 128, 256, 128, 128, 64,100,'linear',0.3,tf.keras.optimizers.Adam(learning_rate=1e-4),'mae')"
      ],
      "metadata": {
        "colab": {
          "base_uri": "https://localhost:8080/"
        },
        "id": "09JcYhNkG0ay",
        "outputId": "d5d34f42-b59b-46fd-cc38-4032a4a9e6cd"
      },
      "execution_count": null,
      "outputs": [
        {
          "output_type": "stream",
          "name": "stdout",
          "text": [
            "Model: \"sequential_11\"\n",
            "_________________________________________________________________\n",
            " Layer (type)                Output Shape              Param #   \n",
            "=================================================================\n",
            " dense_79 (Dense)            (None, 64)                832       \n",
            "                                                                 \n",
            " dropout_68 (Dropout)        (None, 64)                0         \n",
            "                                                                 \n",
            " batch_normalization_68 (Bat  (None, 64)               256       \n",
            " chNormalization)                                                \n",
            "                                                                 \n",
            " dense_80 (Dense)            (None, 128)               8320      \n",
            "                                                                 \n",
            " dropout_69 (Dropout)        (None, 128)               0         \n",
            "                                                                 \n",
            " batch_normalization_69 (Bat  (None, 128)              512       \n",
            " chNormalization)                                                \n",
            "                                                                 \n",
            " dense_81 (Dense)            (None, 256)               33024     \n",
            "                                                                 \n",
            " dropout_70 (Dropout)        (None, 256)               0         \n",
            "                                                                 \n",
            " batch_normalization_70 (Bat  (None, 256)              1024      \n",
            " chNormalization)                                                \n",
            "                                                                 \n",
            " dense_82 (Dense)            (None, 128)               32896     \n",
            "                                                                 \n",
            " dropout_71 (Dropout)        (None, 128)               0         \n",
            "                                                                 \n",
            " batch_normalization_71 (Bat  (None, 128)              512       \n",
            " chNormalization)                                                \n",
            "                                                                 \n",
            " dense_83 (Dense)            (None, 128)               16512     \n",
            "                                                                 \n",
            " dropout_72 (Dropout)        (None, 128)               0         \n",
            "                                                                 \n",
            " batch_normalization_72 (Bat  (None, 128)              512       \n",
            " chNormalization)                                                \n",
            "                                                                 \n",
            " dense_84 (Dense)            (None, 64)                8256      \n",
            "                                                                 \n",
            " dropout_73 (Dropout)        (None, 64)                0         \n",
            "                                                                 \n",
            " batch_normalization_73 (Bat  (None, 64)               256       \n",
            " chNormalization)                                                \n",
            "                                                                 \n",
            " dense_85 (Dense)            (None, 1)                 65        \n",
            "                                                                 \n",
            "=================================================================\n",
            "Total params: 102,977\n",
            "Trainable params: 101,441\n",
            "Non-trainable params: 1,536\n",
            "_________________________________________________________________\n"
          ]
        }
      ]
    },
    {
      "cell_type": "code",
      "source": [
        "y_pred = m6.predict(X_test)\n",
        "result = eval(y_test.values,y_pred)"
      ],
      "metadata": {
        "id": "IfkNbD-yMjyG"
      },
      "execution_count": null,
      "outputs": []
    },
    {
      "cell_type": "code",
      "source": [
        "print(result)"
      ],
      "metadata": {
        "colab": {
          "base_uri": "https://localhost:8080/"
        },
        "outputId": "16ef82c2-1497-4b11-dc82-86e7b89698af",
        "id": "bc1sYpbOMjyH"
      },
      "execution_count": null,
      "outputs": [
        {
          "output_type": "stream",
          "name": "stdout",
          "text": [
            "{'MAE': 14.456662292559962, 'RMSE': 19.172152822587925, 'R2score': 0.5356724912373634, 'Custom Accuracy': 46.78301641052357}\n"
          ]
        }
      ]
    },
    {
      "cell_type": "markdown",
      "source": [
        "There is slight increase in R2score and custom accuracy as compared to when LR was 1e-3.Thus, this is the best model obtained so far."
      ],
      "metadata": {
        "id": "SjjvjIG2M1Ma"
      }
    },
    {
      "cell_type": "markdown",
      "metadata": {
        "id": "-RpK468Jo0PF"
      },
      "source": [
        "# Neural Network for Match Winner Prediction"
      ]
    },
    {
      "cell_type": "markdown",
      "source": [
        "### Preparing Data for Model Training\n"
      ],
      "metadata": {
        "id": "cDchEiMBopzX"
      }
    },
    {
      "cell_type": "code",
      "source": [
        "!gdown --id 1r94_CtQU6T_H5Ni2q4KmJMugEHYD2Mxk "
      ],
      "metadata": {
        "colab": {
          "base_uri": "https://localhost:8080/"
        },
        "id": "R_De2du6bx65",
        "outputId": "ff7cacd1-6e4b-45fa-94f1-d095a770bf3d"
      },
      "execution_count": 46,
      "outputs": [
        {
          "output_type": "stream",
          "name": "stdout",
          "text": [
            "Downloading...\n",
            "From: https://drive.google.com/uc?id=1r94_CtQU6T_H5Ni2q4KmJMugEHYD2Mxk\n",
            "To: /content/ipl_predict_dl.csv\n",
            "100% 11.9M/11.9M [00:00<00:00, 59.8MB/s]\n"
          ]
        }
      ]
    },
    {
      "cell_type": "code",
      "source": [
        "data = pd.read_csv('/content/ipl_predict_dl.csv')"
      ],
      "metadata": {
        "id": "k7q-jdJEyk2X"
      },
      "execution_count": 47,
      "outputs": []
    },
    {
      "cell_type": "code",
      "source": [
        "data.drop(['Unnamed: 0'],inplace=True,axis=1)\n",
        "data.head()"
      ],
      "metadata": {
        "colab": {
          "base_uri": "https://localhost:8080/",
          "height": 270
        },
        "id": "8F0iDse8y1aP",
        "outputId": "ed15b3c9-0fc3-4498-bb0f-fc4cd4907244"
      },
      "execution_count": 48,
      "outputs": [
        {
          "output_type": "execute_result",
          "data": {
            "text/html": [
              "\n",
              "  <div id=\"df-d22fec19-e784-49e0-9b31-098b0b8c6d6b\">\n",
              "    <div class=\"colab-df-container\">\n",
              "      <div>\n",
              "<style scoped>\n",
              "    .dataframe tbody tr th:only-of-type {\n",
              "        vertical-align: middle;\n",
              "    }\n",
              "\n",
              "    .dataframe tbody tr th {\n",
              "        vertical-align: top;\n",
              "    }\n",
              "\n",
              "    .dataframe thead th {\n",
              "        text-align: right;\n",
              "    }\n",
              "</style>\n",
              "<table border=\"1\" class=\"dataframe\">\n",
              "  <thead>\n",
              "    <tr style=\"text-align: right;\">\n",
              "      <th></th>\n",
              "      <th>id_inning</th>\n",
              "      <th>year</th>\n",
              "      <th>inning</th>\n",
              "      <th>ball</th>\n",
              "      <th>venue</th>\n",
              "      <th>batsman</th>\n",
              "      <th>bowler</th>\n",
              "      <th>batting_team</th>\n",
              "      <th>bowling_team</th>\n",
              "      <th>is_wicket</th>\n",
              "      <th>total_runs_y</th>\n",
              "      <th>total_runs_x</th>\n",
              "      <th>team1_toss_win</th>\n",
              "      <th>team1_win</th>\n",
              "      <th>team1_bat</th>\n",
              "      <th>team1</th>\n",
              "      <th>team2</th>\n",
              "      <th>current_runs</th>\n",
              "      <th>current_wickets</th>\n",
              "      <th>runs_last5</th>\n",
              "      <th>wickets_last5</th>\n",
              "    </tr>\n",
              "  </thead>\n",
              "  <tbody>\n",
              "    <tr>\n",
              "      <th>0</th>\n",
              "      <td>3359827</td>\n",
              "      <td>2008</td>\n",
              "      <td>1</td>\n",
              "      <td>5.1</td>\n",
              "      <td>14</td>\n",
              "      <td>431</td>\n",
              "      <td>264</td>\n",
              "      <td>7</td>\n",
              "      <td>12</td>\n",
              "      <td>0</td>\n",
              "      <td>4</td>\n",
              "      <td>222</td>\n",
              "      <td>1.0</td>\n",
              "      <td>0.0</td>\n",
              "      <td>0</td>\n",
              "      <td>12</td>\n",
              "      <td>7</td>\n",
              "      <td>54</td>\n",
              "      <td>0</td>\n",
              "      <td>54.0</td>\n",
              "      <td>0.0</td>\n",
              "    </tr>\n",
              "    <tr>\n",
              "      <th>1</th>\n",
              "      <td>3359827</td>\n",
              "      <td>2008</td>\n",
              "      <td>1</td>\n",
              "      <td>5.2</td>\n",
              "      <td>14</td>\n",
              "      <td>431</td>\n",
              "      <td>264</td>\n",
              "      <td>7</td>\n",
              "      <td>12</td>\n",
              "      <td>0</td>\n",
              "      <td>1</td>\n",
              "      <td>222</td>\n",
              "      <td>1.0</td>\n",
              "      <td>0.0</td>\n",
              "      <td>0</td>\n",
              "      <td>12</td>\n",
              "      <td>7</td>\n",
              "      <td>55</td>\n",
              "      <td>0</td>\n",
              "      <td>55.0</td>\n",
              "      <td>0.0</td>\n",
              "    </tr>\n",
              "    <tr>\n",
              "      <th>2</th>\n",
              "      <td>3359827</td>\n",
              "      <td>2008</td>\n",
              "      <td>1</td>\n",
              "      <td>5.3</td>\n",
              "      <td>14</td>\n",
              "      <td>77</td>\n",
              "      <td>264</td>\n",
              "      <td>7</td>\n",
              "      <td>12</td>\n",
              "      <td>0</td>\n",
              "      <td>4</td>\n",
              "      <td>222</td>\n",
              "      <td>1.0</td>\n",
              "      <td>0.0</td>\n",
              "      <td>0</td>\n",
              "      <td>12</td>\n",
              "      <td>7</td>\n",
              "      <td>59</td>\n",
              "      <td>0</td>\n",
              "      <td>59.0</td>\n",
              "      <td>0.0</td>\n",
              "    </tr>\n",
              "    <tr>\n",
              "      <th>3</th>\n",
              "      <td>3359827</td>\n",
              "      <td>2008</td>\n",
              "      <td>1</td>\n",
              "      <td>5.4</td>\n",
              "      <td>14</td>\n",
              "      <td>77</td>\n",
              "      <td>264</td>\n",
              "      <td>7</td>\n",
              "      <td>12</td>\n",
              "      <td>0</td>\n",
              "      <td>0</td>\n",
              "      <td>222</td>\n",
              "      <td>1.0</td>\n",
              "      <td>0.0</td>\n",
              "      <td>0</td>\n",
              "      <td>12</td>\n",
              "      <td>7</td>\n",
              "      <td>59</td>\n",
              "      <td>0</td>\n",
              "      <td>59.0</td>\n",
              "      <td>0.0</td>\n",
              "    </tr>\n",
              "    <tr>\n",
              "      <th>4</th>\n",
              "      <td>3359827</td>\n",
              "      <td>2008</td>\n",
              "      <td>1</td>\n",
              "      <td>5.5</td>\n",
              "      <td>14</td>\n",
              "      <td>77</td>\n",
              "      <td>264</td>\n",
              "      <td>7</td>\n",
              "      <td>12</td>\n",
              "      <td>0</td>\n",
              "      <td>1</td>\n",
              "      <td>222</td>\n",
              "      <td>1.0</td>\n",
              "      <td>0.0</td>\n",
              "      <td>0</td>\n",
              "      <td>12</td>\n",
              "      <td>7</td>\n",
              "      <td>60</td>\n",
              "      <td>0</td>\n",
              "      <td>59.0</td>\n",
              "      <td>0.0</td>\n",
              "    </tr>\n",
              "  </tbody>\n",
              "</table>\n",
              "</div>\n",
              "      <button class=\"colab-df-convert\" onclick=\"convertToInteractive('df-d22fec19-e784-49e0-9b31-098b0b8c6d6b')\"\n",
              "              title=\"Convert this dataframe to an interactive table.\"\n",
              "              style=\"display:none;\">\n",
              "        \n",
              "  <svg xmlns=\"http://www.w3.org/2000/svg\" height=\"24px\"viewBox=\"0 0 24 24\"\n",
              "       width=\"24px\">\n",
              "    <path d=\"M0 0h24v24H0V0z\" fill=\"none\"/>\n",
              "    <path d=\"M18.56 5.44l.94 2.06.94-2.06 2.06-.94-2.06-.94-.94-2.06-.94 2.06-2.06.94zm-11 1L8.5 8.5l.94-2.06 2.06-.94-2.06-.94L8.5 2.5l-.94 2.06-2.06.94zm10 10l.94 2.06.94-2.06 2.06-.94-2.06-.94-.94-2.06-.94 2.06-2.06.94z\"/><path d=\"M17.41 7.96l-1.37-1.37c-.4-.4-.92-.59-1.43-.59-.52 0-1.04.2-1.43.59L10.3 9.45l-7.72 7.72c-.78.78-.78 2.05 0 2.83L4 21.41c.39.39.9.59 1.41.59.51 0 1.02-.2 1.41-.59l7.78-7.78 2.81-2.81c.8-.78.8-2.07 0-2.86zM5.41 20L4 18.59l7.72-7.72 1.47 1.35L5.41 20z\"/>\n",
              "  </svg>\n",
              "      </button>\n",
              "      \n",
              "  <style>\n",
              "    .colab-df-container {\n",
              "      display:flex;\n",
              "      flex-wrap:wrap;\n",
              "      gap: 12px;\n",
              "    }\n",
              "\n",
              "    .colab-df-convert {\n",
              "      background-color: #E8F0FE;\n",
              "      border: none;\n",
              "      border-radius: 50%;\n",
              "      cursor: pointer;\n",
              "      display: none;\n",
              "      fill: #1967D2;\n",
              "      height: 32px;\n",
              "      padding: 0 0 0 0;\n",
              "      width: 32px;\n",
              "    }\n",
              "\n",
              "    .colab-df-convert:hover {\n",
              "      background-color: #E2EBFA;\n",
              "      box-shadow: 0px 1px 2px rgba(60, 64, 67, 0.3), 0px 1px 3px 1px rgba(60, 64, 67, 0.15);\n",
              "      fill: #174EA6;\n",
              "    }\n",
              "\n",
              "    [theme=dark] .colab-df-convert {\n",
              "      background-color: #3B4455;\n",
              "      fill: #D2E3FC;\n",
              "    }\n",
              "\n",
              "    [theme=dark] .colab-df-convert:hover {\n",
              "      background-color: #434B5C;\n",
              "      box-shadow: 0px 1px 3px 1px rgba(0, 0, 0, 0.15);\n",
              "      filter: drop-shadow(0px 1px 2px rgba(0, 0, 0, 0.3));\n",
              "      fill: #FFFFFF;\n",
              "    }\n",
              "  </style>\n",
              "\n",
              "      <script>\n",
              "        const buttonEl =\n",
              "          document.querySelector('#df-d22fec19-e784-49e0-9b31-098b0b8c6d6b button.colab-df-convert');\n",
              "        buttonEl.style.display =\n",
              "          google.colab.kernel.accessAllowed ? 'block' : 'none';\n",
              "\n",
              "        async function convertToInteractive(key) {\n",
              "          const element = document.querySelector('#df-d22fec19-e784-49e0-9b31-098b0b8c6d6b');\n",
              "          const dataTable =\n",
              "            await google.colab.kernel.invokeFunction('convertToInteractive',\n",
              "                                                     [key], {});\n",
              "          if (!dataTable) return;\n",
              "\n",
              "          const docLinkHtml = 'Like what you see? Visit the ' +\n",
              "            '<a target=\"_blank\" href=https://colab.research.google.com/notebooks/data_table.ipynb>data table notebook</a>'\n",
              "            + ' to learn more about interactive tables.';\n",
              "          element.innerHTML = '';\n",
              "          dataTable['output_type'] = 'display_data';\n",
              "          await google.colab.output.renderOutput(dataTable, element);\n",
              "          const docLink = document.createElement('div');\n",
              "          docLink.innerHTML = docLinkHtml;\n",
              "          element.appendChild(docLink);\n",
              "        }\n",
              "      </script>\n",
              "    </div>\n",
              "  </div>\n",
              "  "
            ],
            "text/plain": [
              "   id_inning  year  inning  ...  current_wickets  runs_last5  wickets_last5\n",
              "0    3359827  2008       1  ...                0        54.0            0.0\n",
              "1    3359827  2008       1  ...                0        55.0            0.0\n",
              "2    3359827  2008       1  ...                0        59.0            0.0\n",
              "3    3359827  2008       1  ...                0        59.0            0.0\n",
              "4    3359827  2008       1  ...                0        59.0            0.0\n",
              "\n",
              "[5 rows x 21 columns]"
            ]
          },
          "metadata": {},
          "execution_count": 48
        }
      ]
    },
    {
      "cell_type": "code",
      "source": [
        "data.drop('id_inning',axis=1,inplace=True)"
      ],
      "metadata": {
        "id": "wM8Jnq7HxZm-"
      },
      "execution_count": 49,
      "outputs": []
    },
    {
      "cell_type": "markdown",
      "source": [
        "### Feature selection"
      ],
      "metadata": {
        "id": "CzNR1OIIxMkJ"
      }
    },
    {
      "cell_type": "code",
      "source": [
        "df_win = data.copy()\n",
        "df_win.drop('year',axis=1,inplace=True)\n",
        "# removing year from feature importance process"
      ],
      "metadata": {
        "id": "1PwdNsu3xpgR"
      },
      "execution_count": 51,
      "outputs": []
    },
    {
      "cell_type": "code",
      "source": [
        "df_win.columns"
      ],
      "metadata": {
        "colab": {
          "base_uri": "https://localhost:8080/"
        },
        "id": "sc0UYNWyx8sK",
        "outputId": "7a6699bc-1049-4bb2-811b-e3d764f50a47"
      },
      "execution_count": 52,
      "outputs": [
        {
          "output_type": "execute_result",
          "data": {
            "text/plain": [
              "Index(['inning', 'ball', 'venue', 'batsman', 'bowler', 'batting_team',\n",
              "       'bowling_team', 'is_wicket', 'total_runs_y', 'total_runs_x',\n",
              "       'team1_toss_win', 'team1_win', 'team1_bat', 'team1', 'team2',\n",
              "       'current_runs', 'current_wickets', 'runs_last5', 'wickets_last5'],\n",
              "      dtype='object')"
            ]
          },
          "metadata": {},
          "execution_count": 52
        }
      ]
    },
    {
      "cell_type": "code",
      "source": [
        "df_win.drop('team1_win',axis=1,inplace=True)\n",
        "df_win['team1_win']=data['team1_win']"
      ],
      "metadata": {
        "id": "c_EIttmhyKQq"
      },
      "execution_count": 53,
      "outputs": []
    },
    {
      "cell_type": "code",
      "source": [
        "df_win.drop(['batting_team','bowling_team','is_wicket','total_runs_y'],axis=1,inplace=True)"
      ],
      "metadata": {
        "id": "NTp4zQegyag7"
      },
      "execution_count": 57,
      "outputs": []
    },
    {
      "cell_type": "code",
      "source": [
        "len(df_win.columns)"
      ],
      "metadata": {
        "colab": {
          "base_uri": "https://localhost:8080/"
        },
        "id": "MmJESAE_yVwo",
        "outputId": "864101cd-2234-401d-b740-4c64579be234"
      },
      "execution_count": 60,
      "outputs": [
        {
          "output_type": "execute_result",
          "data": {
            "text/plain": [
              "15"
            ]
          },
          "metadata": {},
          "execution_count": 60
        }
      ]
    },
    {
      "cell_type": "code",
      "source": [
        "from sklearn.ensemble import ExtraTreesClassifier"
      ],
      "metadata": {
        "id": "Mjr82LdDxrDd"
      },
      "execution_count": 61,
      "outputs": []
    },
    {
      "cell_type": "code",
      "source": [
        "X = df_win.iloc[:,0:14]  #independent columns\n",
        "y = df_win.iloc[:,14]    #target column i.e price range\n",
        "model = ExtraTreesClassifier()\n",
        "model.fit(X ,y )\n",
        "print(model.feature_importances_) #use inbuilt class feature_importances of tree based classifiers\n",
        "#plot graph of feature importances for better visualization\n",
        "feat_importances = pd.Series(model.feature_importances_, index=X.columns)\n"
      ],
      "metadata": {
        "colab": {
          "base_uri": "https://localhost:8080/"
        },
        "id": "ZeVY95ecxP6i",
        "outputId": "f339c91f-6675-40b7-d5ea-329004348c2d"
      },
      "execution_count": 62,
      "outputs": [
        {
          "output_type": "stream",
          "name": "stdout",
          "text": [
            "[0.03581144 0.03304189 0.14226104 0.0644578  0.05358138 0.1831743\n",
            " 0.02199369 0.02220407 0.1218707  0.14459187 0.04030439 0.06275777\n",
            " 0.03919538 0.03475428]\n"
          ]
        }
      ]
    },
    {
      "cell_type": "code",
      "source": [
        "fig = plt.figure(figsize=(15,6))\n",
        "sns.barplot(feat_importances.values,feat_importances.index)\n",
        "plt.show()"
      ],
      "metadata": {
        "colab": {
          "base_uri": "https://localhost:8080/",
          "height": 463
        },
        "id": "z4ZNeom0xQQo",
        "outputId": "97ae4cdd-60d3-4763-8e74-f7e89757aaac"
      },
      "execution_count": 66,
      "outputs": [
        {
          "output_type": "stream",
          "name": "stderr",
          "text": [
            "/usr/local/lib/python3.7/dist-packages/seaborn/_decorators.py:43: FutureWarning:\n",
            "\n",
            "Pass the following variables as keyword args: x, y. From version 0.12, the only valid positional argument will be `data`, and passing other arguments without an explicit keyword will result in an error or misinterpretation.\n",
            "\n"
          ]
        },
        {
          "output_type": "display_data",
          "data": {
            "image/png": "[encoded data removed]",
            "text/plain": [
              "<Figure size 1080x432 with 1 Axes>"
            ]
          },
          "metadata": {
            "needs_background": "light"
          }
        }
      ]
    },
    {
      "cell_type": "code",
      "source": [
        "feat_importances=feat_importances[feat_importances.values>0.025]\n",
        "class_feature_columns=feat_importances.index"
      ],
      "metadata": {
        "id": "l5s9zKih3wCU"
      },
      "execution_count": 67,
      "outputs": []
    },
    {
      "cell_type": "code",
      "source": [
        "class_feature_columns"
      ],
      "metadata": {
        "colab": {
          "base_uri": "https://localhost:8080/"
        },
        "id": "ntFllTTPzrdv",
        "outputId": "aecad653-6c69-432c-f385-b21ba1840450"
      },
      "execution_count": 68,
      "outputs": [
        {
          "output_type": "execute_result",
          "data": {
            "text/plain": [
              "Index(['inning', 'ball', 'venue', 'batsman', 'bowler', 'total_runs_x', 'team1',\n",
              "       'team2', 'current_runs', 'current_wickets', 'runs_last5',\n",
              "       'wickets_last5'],\n",
              "      dtype='object')"
            ]
          },
          "metadata": {},
          "execution_count": 68
        }
      ]
    },
    {
      "cell_type": "code",
      "source": [
        "X_win_train_data= data[data['year']<2020] \n",
        "X_win_test_data= data[data['year']==2020] \n",
        "# X_win_train_data = X_win_train_data[X_win_train_data['year']>2012]"
      ],
      "metadata": {
        "id": "zBmyLlKE1QYe"
      },
      "execution_count": 101,
      "outputs": []
    },
    {
      "cell_type": "code",
      "source": [
        "X_win_train_data.head()"
      ],
      "metadata": {
        "colab": {
          "base_uri": "https://localhost:8080/",
          "height": 270
        },
        "id": "SV_flH11z5kq",
        "outputId": "0175f0f1-a3f9-4773-aa9d-7741e4c0d9a9"
      },
      "execution_count": 102,
      "outputs": [
        {
          "output_type": "execute_result",
          "data": {
            "text/html": [
              "\n",
              "  <div id=\"df-f17b4bce-0ca6-41c1-a6fa-f65a39e99044\">\n",
              "    <div class=\"colab-df-container\">\n",
              "      <div>\n",
              "<style scoped>\n",
              "    .dataframe tbody tr th:only-of-type {\n",
              "        vertical-align: middle;\n",
              "    }\n",
              "\n",
              "    .dataframe tbody tr th {\n",
              "        vertical-align: top;\n",
              "    }\n",
              "\n",
              "    .dataframe thead th {\n",
              "        text-align: right;\n",
              "    }\n",
              "</style>\n",
              "<table border=\"1\" class=\"dataframe\">\n",
              "  <thead>\n",
              "    <tr style=\"text-align: right;\">\n",
              "      <th></th>\n",
              "      <th>year</th>\n",
              "      <th>inning</th>\n",
              "      <th>ball</th>\n",
              "      <th>venue</th>\n",
              "      <th>batsman</th>\n",
              "      <th>bowler</th>\n",
              "      <th>batting_team</th>\n",
              "      <th>bowling_team</th>\n",
              "      <th>is_wicket</th>\n",
              "      <th>total_runs_y</th>\n",
              "      <th>total_runs_x</th>\n",
              "      <th>team1_toss_win</th>\n",
              "      <th>team1_win</th>\n",
              "      <th>team1_bat</th>\n",
              "      <th>team1</th>\n",
              "      <th>team2</th>\n",
              "      <th>current_runs</th>\n",
              "      <th>current_wickets</th>\n",
              "      <th>runs_last5</th>\n",
              "      <th>wickets_last5</th>\n",
              "    </tr>\n",
              "  </thead>\n",
              "  <tbody>\n",
              "    <tr>\n",
              "      <th>0</th>\n",
              "      <td>2008</td>\n",
              "      <td>1</td>\n",
              "      <td>5.1</td>\n",
              "      <td>14</td>\n",
              "      <td>431</td>\n",
              "      <td>264</td>\n",
              "      <td>7</td>\n",
              "      <td>12</td>\n",
              "      <td>0</td>\n",
              "      <td>4</td>\n",
              "      <td>222</td>\n",
              "      <td>1.0</td>\n",
              "      <td>0.0</td>\n",
              "      <td>0</td>\n",
              "      <td>12</td>\n",
              "      <td>7</td>\n",
              "      <td>54</td>\n",
              "      <td>0</td>\n",
              "      <td>54.0</td>\n",
              "      <td>0.0</td>\n",
              "    </tr>\n",
              "    <tr>\n",
              "      <th>1</th>\n",
              "      <td>2008</td>\n",
              "      <td>1</td>\n",
              "      <td>5.2</td>\n",
              "      <td>14</td>\n",
              "      <td>431</td>\n",
              "      <td>264</td>\n",
              "      <td>7</td>\n",
              "      <td>12</td>\n",
              "      <td>0</td>\n",
              "      <td>1</td>\n",
              "      <td>222</td>\n",
              "      <td>1.0</td>\n",
              "      <td>0.0</td>\n",
              "      <td>0</td>\n",
              "      <td>12</td>\n",
              "      <td>7</td>\n",
              "      <td>55</td>\n",
              "      <td>0</td>\n",
              "      <td>55.0</td>\n",
              "      <td>0.0</td>\n",
              "    </tr>\n",
              "    <tr>\n",
              "      <th>2</th>\n",
              "      <td>2008</td>\n",
              "      <td>1</td>\n",
              "      <td>5.3</td>\n",
              "      <td>14</td>\n",
              "      <td>77</td>\n",
              "      <td>264</td>\n",
              "      <td>7</td>\n",
              "      <td>12</td>\n",
              "      <td>0</td>\n",
              "      <td>4</td>\n",
              "      <td>222</td>\n",
              "      <td>1.0</td>\n",
              "      <td>0.0</td>\n",
              "      <td>0</td>\n",
              "      <td>12</td>\n",
              "      <td>7</td>\n",
              "      <td>59</td>\n",
              "      <td>0</td>\n",
              "      <td>59.0</td>\n",
              "      <td>0.0</td>\n",
              "    </tr>\n",
              "    <tr>\n",
              "      <th>3</th>\n",
              "      <td>2008</td>\n",
              "      <td>1</td>\n",
              "      <td>5.4</td>\n",
              "      <td>14</td>\n",
              "      <td>77</td>\n",
              "      <td>264</td>\n",
              "      <td>7</td>\n",
              "      <td>12</td>\n",
              "      <td>0</td>\n",
              "      <td>0</td>\n",
              "      <td>222</td>\n",
              "      <td>1.0</td>\n",
              "      <td>0.0</td>\n",
              "      <td>0</td>\n",
              "      <td>12</td>\n",
              "      <td>7</td>\n",
              "      <td>59</td>\n",
              "      <td>0</td>\n",
              "      <td>59.0</td>\n",
              "      <td>0.0</td>\n",
              "    </tr>\n",
              "    <tr>\n",
              "      <th>4</th>\n",
              "      <td>2008</td>\n",
              "      <td>1</td>\n",
              "      <td>5.5</td>\n",
              "      <td>14</td>\n",
              "      <td>77</td>\n",
              "      <td>264</td>\n",
              "      <td>7</td>\n",
              "      <td>12</td>\n",
              "      <td>0</td>\n",
              "      <td>1</td>\n",
              "      <td>222</td>\n",
              "      <td>1.0</td>\n",
              "      <td>0.0</td>\n",
              "      <td>0</td>\n",
              "      <td>12</td>\n",
              "      <td>7</td>\n",
              "      <td>60</td>\n",
              "      <td>0</td>\n",
              "      <td>59.0</td>\n",
              "      <td>0.0</td>\n",
              "    </tr>\n",
              "  </tbody>\n",
              "</table>\n",
              "</div>\n",
              "      <button class=\"colab-df-convert\" onclick=\"convertToInteractive('df-f17b4bce-0ca6-41c1-a6fa-f65a39e99044')\"\n",
              "              title=\"Convert this dataframe to an interactive table.\"\n",
              "              style=\"display:none;\">\n",
              "        \n",
              "  <svg xmlns=\"http://www.w3.org/2000/svg\" height=\"24px\"viewBox=\"0 0 24 24\"\n",
              "       width=\"24px\">\n",
              "    <path d=\"M0 0h24v24H0V0z\" fill=\"none\"/>\n",
              "    <path d=\"M18.56 5.44l.94 2.06.94-2.06 2.06-.94-2.06-.94-.94-2.06-.94 2.06-2.06.94zm-11 1L8.5 8.5l.94-2.06 2.06-.94-2.06-.94L8.5 2.5l-.94 2.06-2.06.94zm10 10l.94 2.06.94-2.06 2.06-.94-2.06-.94-.94-2.06-.94 2.06-2.06.94z\"/><path d=\"M17.41 7.96l-1.37-1.37c-.4-.4-.92-.59-1.43-.59-.52 0-1.04.2-1.43.59L10.3 9.45l-7.72 7.72c-.78.78-.78 2.05 0 2.83L4 21.41c.39.39.9.59 1.41.59.51 0 1.02-.2 1.41-.59l7.78-7.78 2.81-2.81c.8-.78.8-2.07 0-2.86zM5.41 20L4 18.59l7.72-7.72 1.47 1.35L5.41 20z\"/>\n",
              "  </svg>\n",
              "      </button>\n",
              "      \n",
              "  <style>\n",
              "    .colab-df-container {\n",
              "      display:flex;\n",
              "      flex-wrap:wrap;\n",
              "      gap: 12px;\n",
              "    }\n",
              "\n",
              "    .colab-df-convert {\n",
              "      background-color: #E8F0FE;\n",
              "      border: none;\n",
              "      border-radius: 50%;\n",
              "      cursor: pointer;\n",
              "      display: none;\n",
              "      fill: #1967D2;\n",
              "      height: 32px;\n",
              "      padding: 0 0 0 0;\n",
              "      width: 32px;\n",
              "    }\n",
              "\n",
              "    .colab-df-convert:hover {\n",
              "      background-color: #E2EBFA;\n",
              "      box-shadow: 0px 1px 2px rgba(60, 64, 67, 0.3), 0px 1px 3px 1px rgba(60, 64, 67, 0.15);\n",
              "      fill: #174EA6;\n",
              "    }\n",
              "\n",
              "    [theme=dark] .colab-df-convert {\n",
              "      background-color: #3B4455;\n",
              "      fill: #D2E3FC;\n",
              "    }\n",
              "\n",
              "    [theme=dark] .colab-df-convert:hover {\n",
              "      background-color: #434B5C;\n",
              "      box-shadow: 0px 1px 3px 1px rgba(0, 0, 0, 0.15);\n",
              "      filter: drop-shadow(0px 1px 2px rgba(0, 0, 0, 0.3));\n",
              "      fill: #FFFFFF;\n",
              "    }\n",
              "  </style>\n",
              "\n",
              "      <script>\n",
              "        const buttonEl =\n",
              "          document.querySelector('#df-f17b4bce-0ca6-41c1-a6fa-f65a39e99044 button.colab-df-convert');\n",
              "        buttonEl.style.display =\n",
              "          google.colab.kernel.accessAllowed ? 'block' : 'none';\n",
              "\n",
              "        async function convertToInteractive(key) {\n",
              "          const element = document.querySelector('#df-f17b4bce-0ca6-41c1-a6fa-f65a39e99044');\n",
              "          const dataTable =\n",
              "            await google.colab.kernel.invokeFunction('convertToInteractive',\n",
              "                                                     [key], {});\n",
              "          if (!dataTable) return;\n",
              "\n",
              "          const docLinkHtml = 'Like what you see? Visit the ' +\n",
              "            '<a target=\"_blank\" href=https://colab.research.google.com/notebooks/data_table.ipynb>data table notebook</a>'\n",
              "            + ' to learn more about interactive tables.';\n",
              "          element.innerHTML = '';\n",
              "          dataTable['output_type'] = 'display_data';\n",
              "          await google.colab.output.renderOutput(dataTable, element);\n",
              "          const docLink = document.createElement('div');\n",
              "          docLink.innerHTML = docLinkHtml;\n",
              "          element.appendChild(docLink);\n",
              "        }\n",
              "      </script>\n",
              "    </div>\n",
              "  </div>\n",
              "  "
            ],
            "text/plain": [
              "   year  inning  ball  ...  current_wickets  runs_last5  wickets_last5\n",
              "0  2008       1   5.1  ...                0        54.0            0.0\n",
              "1  2008       1   5.2  ...                0        55.0            0.0\n",
              "2  2008       1   5.3  ...                0        59.0            0.0\n",
              "3  2008       1   5.4  ...                0        59.0            0.0\n",
              "4  2008       1   5.5  ...                0        59.0            0.0\n",
              "\n",
              "[5 rows x 20 columns]"
            ]
          },
          "metadata": {},
          "execution_count": 102
        }
      ]
    },
    {
      "cell_type": "code",
      "source": [
        "len(X_win_train_data)"
      ],
      "metadata": {
        "colab": {
          "base_uri": "https://localhost:8080/"
        },
        "id": "HU8pZiUw586I",
        "outputId": "a26eeb2a-9ec1-4564-cf76-776ec9a93af3"
      },
      "execution_count": 72,
      "outputs": [
        {
          "output_type": "execute_result",
          "data": {
            "text/plain": [
              "140925"
            ]
          },
          "metadata": {},
          "execution_count": 72
        }
      ]
    },
    {
      "cell_type": "code",
      "source": [
        "X_win_train = X_win_train_data.drop('year',axis=1)\n",
        "X_win_test = X_win_test_data.drop('year',axis=1)"
      ],
      "metadata": {
        "id": "cEiyR80T6AW_"
      },
      "execution_count": 103,
      "outputs": []
    },
    {
      "cell_type": "code",
      "source": [
        "class_feature_columns"
      ],
      "metadata": {
        "colab": {
          "base_uri": "https://localhost:8080/"
        },
        "id": "ZFFpGloE4O8f",
        "outputId": "43a89c7a-6fc0-416f-ba86-666bf7252a0e"
      },
      "execution_count": null,
      "outputs": [
        {
          "output_type": "execute_result",
          "data": {
            "text/plain": [
              "Index(['venue', 'team1_toss_win', 'team1_bat', 'target_score', 'team1',\n",
              "       'team2'],\n",
              "      dtype='object')"
            ]
          },
          "metadata": {},
          "execution_count": 19
        }
      ]
    },
    {
      "cell_type": "code",
      "source": [
        "X_win_train_data = X_win_train_data.drop('year',axis=1)\n",
        "X_win_test_data = X_win_test_data.drop('year',axis=1)"
      ],
      "metadata": {
        "id": "1-U7pVxvxQTp"
      },
      "execution_count": 104,
      "outputs": []
    },
    {
      "cell_type": "code",
      "source": [
        "X_win_train_data.head()"
      ],
      "metadata": {
        "colab": {
          "base_uri": "https://localhost:8080/",
          "height": 270
        },
        "id": "cMuDpSk65Cbn",
        "outputId": "c7e2f1e9-eabd-4b78-eeb3-127772bcae19"
      },
      "execution_count": 105,
      "outputs": [
        {
          "output_type": "execute_result",
          "data": {
            "text/html": [
              "\n",
              "  <div id=\"df-933d1782-30f4-4a11-9b6a-6231105f0735\">\n",
              "    <div class=\"colab-df-container\">\n",
              "      <div>\n",
              "<style scoped>\n",
              "    .dataframe tbody tr th:only-of-type {\n",
              "        vertical-align: middle;\n",
              "    }\n",
              "\n",
              "    .dataframe tbody tr th {\n",
              "        vertical-align: top;\n",
              "    }\n",
              "\n",
              "    .dataframe thead th {\n",
              "        text-align: right;\n",
              "    }\n",
              "</style>\n",
              "<table border=\"1\" class=\"dataframe\">\n",
              "  <thead>\n",
              "    <tr style=\"text-align: right;\">\n",
              "      <th></th>\n",
              "      <th>inning</th>\n",
              "      <th>ball</th>\n",
              "      <th>venue</th>\n",
              "      <th>batsman</th>\n",
              "      <th>bowler</th>\n",
              "      <th>batting_team</th>\n",
              "      <th>bowling_team</th>\n",
              "      <th>is_wicket</th>\n",
              "      <th>total_runs_y</th>\n",
              "      <th>total_runs_x</th>\n",
              "      <th>team1_toss_win</th>\n",
              "      <th>team1_win</th>\n",
              "      <th>team1_bat</th>\n",
              "      <th>team1</th>\n",
              "      <th>team2</th>\n",
              "      <th>current_runs</th>\n",
              "      <th>current_wickets</th>\n",
              "      <th>runs_last5</th>\n",
              "      <th>wickets_last5</th>\n",
              "    </tr>\n",
              "  </thead>\n",
              "  <tbody>\n",
              "    <tr>\n",
              "      <th>0</th>\n",
              "      <td>1</td>\n",
              "      <td>5.1</td>\n",
              "      <td>14</td>\n",
              "      <td>431</td>\n",
              "      <td>264</td>\n",
              "      <td>7</td>\n",
              "      <td>12</td>\n",
              "      <td>0</td>\n",
              "      <td>4</td>\n",
              "      <td>222</td>\n",
              "      <td>1.0</td>\n",
              "      <td>0.0</td>\n",
              "      <td>0</td>\n",
              "      <td>12</td>\n",
              "      <td>7</td>\n",
              "      <td>54</td>\n",
              "      <td>0</td>\n",
              "      <td>54.0</td>\n",
              "      <td>0.0</td>\n",
              "    </tr>\n",
              "    <tr>\n",
              "      <th>1</th>\n",
              "      <td>1</td>\n",
              "      <td>5.2</td>\n",
              "      <td>14</td>\n",
              "      <td>431</td>\n",
              "      <td>264</td>\n",
              "      <td>7</td>\n",
              "      <td>12</td>\n",
              "      <td>0</td>\n",
              "      <td>1</td>\n",
              "      <td>222</td>\n",
              "      <td>1.0</td>\n",
              "      <td>0.0</td>\n",
              "      <td>0</td>\n",
              "      <td>12</td>\n",
              "      <td>7</td>\n",
              "      <td>55</td>\n",
              "      <td>0</td>\n",
              "      <td>55.0</td>\n",
              "      <td>0.0</td>\n",
              "    </tr>\n",
              "    <tr>\n",
              "      <th>2</th>\n",
              "      <td>1</td>\n",
              "      <td>5.3</td>\n",
              "      <td>14</td>\n",
              "      <td>77</td>\n",
              "      <td>264</td>\n",
              "      <td>7</td>\n",
              "      <td>12</td>\n",
              "      <td>0</td>\n",
              "      <td>4</td>\n",
              "      <td>222</td>\n",
              "      <td>1.0</td>\n",
              "      <td>0.0</td>\n",
              "      <td>0</td>\n",
              "      <td>12</td>\n",
              "      <td>7</td>\n",
              "      <td>59</td>\n",
              "      <td>0</td>\n",
              "      <td>59.0</td>\n",
              "      <td>0.0</td>\n",
              "    </tr>\n",
              "    <tr>\n",
              "      <th>3</th>\n",
              "      <td>1</td>\n",
              "      <td>5.4</td>\n",
              "      <td>14</td>\n",
              "      <td>77</td>\n",
              "      <td>264</td>\n",
              "      <td>7</td>\n",
              "      <td>12</td>\n",
              "      <td>0</td>\n",
              "      <td>0</td>\n",
              "      <td>222</td>\n",
              "      <td>1.0</td>\n",
              "      <td>0.0</td>\n",
              "      <td>0</td>\n",
              "      <td>12</td>\n",
              "      <td>7</td>\n",
              "      <td>59</td>\n",
              "      <td>0</td>\n",
              "      <td>59.0</td>\n",
              "      <td>0.0</td>\n",
              "    </tr>\n",
              "    <tr>\n",
              "      <th>4</th>\n",
              "      <td>1</td>\n",
              "      <td>5.5</td>\n",
              "      <td>14</td>\n",
              "      <td>77</td>\n",
              "      <td>264</td>\n",
              "      <td>7</td>\n",
              "      <td>12</td>\n",
              "      <td>0</td>\n",
              "      <td>1</td>\n",
              "      <td>222</td>\n",
              "      <td>1.0</td>\n",
              "      <td>0.0</td>\n",
              "      <td>0</td>\n",
              "      <td>12</td>\n",
              "      <td>7</td>\n",
              "      <td>60</td>\n",
              "      <td>0</td>\n",
              "      <td>59.0</td>\n",
              "      <td>0.0</td>\n",
              "    </tr>\n",
              "  </tbody>\n",
              "</table>\n",
              "</div>\n",
              "      <button class=\"colab-df-convert\" onclick=\"convertToInteractive('df-933d1782-30f4-4a11-9b6a-6231105f0735')\"\n",
              "              title=\"Convert this dataframe to an interactive table.\"\n",
              "              style=\"display:none;\">\n",
              "        \n",
              "  <svg xmlns=\"http://www.w3.org/2000/svg\" height=\"24px\"viewBox=\"0 0 24 24\"\n",
              "       width=\"24px\">\n",
              "    <path d=\"M0 0h24v24H0V0z\" fill=\"none\"/>\n",
              "    <path d=\"M18.56 5.44l.94 2.06.94-2.06 2.06-.94-2.06-.94-.94-2.06-.94 2.06-2.06.94zm-11 1L8.5 8.5l.94-2.06 2.06-.94-2.06-.94L8.5 2.5l-.94 2.06-2.06.94zm10 10l.94 2.06.94-2.06 2.06-.94-2.06-.94-.94-2.06-.94 2.06-2.06.94z\"/><path d=\"M17.41 7.96l-1.37-1.37c-.4-.4-.92-.59-1.43-.59-.52 0-1.04.2-1.43.59L10.3 9.45l-7.72 7.72c-.78.78-.78 2.05 0 2.83L4 21.41c.39.39.9.59 1.41.59.51 0 1.02-.2 1.41-.59l7.78-7.78 2.81-2.81c.8-.78.8-2.07 0-2.86zM5.41 20L4 18.59l7.72-7.72 1.47 1.35L5.41 20z\"/>\n",
              "  </svg>\n",
              "      </button>\n",
              "      \n",
              "  <style>\n",
              "    .colab-df-container {\n",
              "      display:flex;\n",
              "      flex-wrap:wrap;\n",
              "      gap: 12px;\n",
              "    }\n",
              "\n",
              "    .colab-df-convert {\n",
              "      background-color: #E8F0FE;\n",
              "      border: none;\n",
              "      border-radius: 50%;\n",
              "      cursor: pointer;\n",
              "      display: none;\n",
              "      fill: #1967D2;\n",
              "      height: 32px;\n",
              "      padding: 0 0 0 0;\n",
              "      width: 32px;\n",
              "    }\n",
              "\n",
              "    .colab-df-convert:hover {\n",
              "      background-color: #E2EBFA;\n",
              "      box-shadow: 0px 1px 2px rgba(60, 64, 67, 0.3), 0px 1px 3px 1px rgba(60, 64, 67, 0.15);\n",
              "      fill: #174EA6;\n",
              "    }\n",
              "\n",
              "    [theme=dark] .colab-df-convert {\n",
              "      background-color: #3B4455;\n",
              "      fill: #D2E3FC;\n",
              "    }\n",
              "\n",
              "    [theme=dark] .colab-df-convert:hover {\n",
              "      background-color: #434B5C;\n",
              "      box-shadow: 0px 1px 3px 1px rgba(0, 0, 0, 0.15);\n",
              "      filter: drop-shadow(0px 1px 2px rgba(0, 0, 0, 0.3));\n",
              "      fill: #FFFFFF;\n",
              "    }\n",
              "  </style>\n",
              "\n",
              "      <script>\n",
              "        const buttonEl =\n",
              "          document.querySelector('#df-933d1782-30f4-4a11-9b6a-6231105f0735 button.colab-df-convert');\n",
              "        buttonEl.style.display =\n",
              "          google.colab.kernel.accessAllowed ? 'block' : 'none';\n",
              "\n",
              "        async function convertToInteractive(key) {\n",
              "          const element = document.querySelector('#df-933d1782-30f4-4a11-9b6a-6231105f0735');\n",
              "          const dataTable =\n",
              "            await google.colab.kernel.invokeFunction('convertToInteractive',\n",
              "                                                     [key], {});\n",
              "          if (!dataTable) return;\n",
              "\n",
              "          const docLinkHtml = 'Like what you see? Visit the ' +\n",
              "            '<a target=\"_blank\" href=https://colab.research.google.com/notebooks/data_table.ipynb>data table notebook</a>'\n",
              "            + ' to learn more about interactive tables.';\n",
              "          element.innerHTML = '';\n",
              "          dataTable['output_type'] = 'display_data';\n",
              "          await google.colab.output.renderOutput(dataTable, element);\n",
              "          const docLink = document.createElement('div');\n",
              "          docLink.innerHTML = docLinkHtml;\n",
              "          element.appendChild(docLink);\n",
              "        }\n",
              "      </script>\n",
              "    </div>\n",
              "  </div>\n",
              "  "
            ],
            "text/plain": [
              "   inning  ball  venue  ...  current_wickets  runs_last5  wickets_last5\n",
              "0       1   5.1     14  ...                0        54.0            0.0\n",
              "1       1   5.2     14  ...                0        55.0            0.0\n",
              "2       1   5.3     14  ...                0        59.0            0.0\n",
              "3       1   5.4     14  ...                0        59.0            0.0\n",
              "4       1   5.5     14  ...                0        59.0            0.0\n",
              "\n",
              "[5 rows x 19 columns]"
            ]
          },
          "metadata": {},
          "execution_count": 105
        }
      ]
    },
    {
      "cell_type": "code",
      "source": [
        "sc = StandardScaler()\n",
        "X_train1 = sc.fit_transform(X_train)\n",
        "X_test1 = sc.transform(X_test)\n",
        "#standardizing the data"
      ],
      "metadata": {
        "id": "c2t7RxO8xQZz"
      },
      "execution_count": 106,
      "outputs": []
    },
    {
      "cell_type": "code",
      "source": [
        ""
      ],
      "metadata": {
        "id": "bfuyLfzRxQcu"
      },
      "execution_count": null,
      "outputs": []
    },
    {
      "cell_type": "markdown",
      "source": [
        "## Defining Model Architecture"
      ],
      "metadata": {
        "id": "O5N1Dr4Xr1c5"
      }
    },
    {
      "cell_type": "code",
      "source": [
        "callback = EarlyStopping(monitor='loss', patience=3)"
      ],
      "metadata": {
        "id": "6_QcHPv1tOqS"
      },
      "execution_count": 77,
      "outputs": []
    },
    {
      "cell_type": "code",
      "source": [
        "\n",
        "def create_model(a,b,c,d,e,f,num_epochs,af1,af2,drop,lr):\n",
        "  nn_model = Sequential()\n",
        "  # The Input Layer :\n",
        "  nn_model.add(Dense(a, kernel_initializer='he_normal', activation=af1))\n",
        "  nn_model.add(Dropout(0.3))\n",
        "  nn_model.add(BatchNormalization(momentum = 0.9))\n",
        "\n",
        "  # The Hidden Layers :\n",
        "  nn_model.add(Dense(b, kernel_initializer='he_normal',activation=af2))\n",
        "  nn_model.add(Dropout(drop))\n",
        "  nn_model.add(BatchNormalization(momentum = 0.9,epsilon=1e-05))\n",
        "\n",
        "  nn_model.add(Dense(c, kernel_initializer='he_normal',activation=af1))\n",
        "  nn_model.add(Dropout(drop))\n",
        "  nn_model.add(BatchNormalization(momentum = 0.9,epsilon=1e-05))\n",
        "\n",
        "  nn_model.add(Dense(d, kernel_initializer='he_normal',activation=af2))\n",
        "  nn_model.add(Dropout(drop))\n",
        "  nn_model.add(BatchNormalization(momentum = 0.9,epsilon=1e-05))\n",
        "\n",
        "  nn_model.add(Dense(e, kernel_initializer='he_normal',activation=af1))\n",
        "  nn_model.add(Dropout(drop))\n",
        "  nn_model.add(BatchNormalization(momentum = 0.9,epsilon=1e-05 ))\n",
        "  \n",
        "  nn_model.add(Dense(f, kernel_initializer='he_normal',activation=af2))\n",
        "  nn_model.add(Dropout(drop))\n",
        "  nn_model.add(BatchNormalization(momentum = 0.9,epsilon=1e-05))\n",
        "\n",
        "  # The Output Layer :\n",
        "  nn_model.add(Dense(1))\n",
        "\n",
        "  # Compile the network :\n",
        "  nn_model.compile(loss='binary_crossentropy', optimizer=tf.keras.optimizers.Adam(learning_rate=lr),metrics=[ 'accuracy'])\n",
        "  history = nn_model.fit(x=X_train, y=y_train, epochs=num_epochs,validation_data=(X_test,y_test),callbacks=[callback],verbose=0 )\n",
        "  summary = nn_model.summary()\n",
        "  score = nn_model.evaluate(X_test,y_test,verbose =0)\n",
        "  return nn_model ,history ,summary ,score\n",
        "\n",
        "          "
      ],
      "metadata": {
        "id": "RyJXVDOobyBa"
      },
      "execution_count": 78,
      "outputs": []
    },
    {
      "cell_type": "code",
      "source": [
        "model1 , hist1 , sum1, win_score1 = create_model(16, 32, 64, 64, 32, 16,100,'relu','relu',0.3,1e-03)"
      ],
      "metadata": {
        "id": "cpmO3WtzbyEH",
        "colab": {
          "base_uri": "https://localhost:8080/"
        },
        "outputId": "a5aaa087-0483-4e71-81d2-e28b6ba585b7"
      },
      "execution_count": 80,
      "outputs": [
        {
          "output_type": "stream",
          "name": "stdout",
          "text": [
            "Model: \"sequential_7\"\n",
            "_________________________________________________________________\n",
            " Layer (type)                Output Shape              Param #   \n",
            "=================================================================\n",
            " dense_49 (Dense)            (None, 16)                208       \n",
            "                                                                 \n",
            " dropout_42 (Dropout)        (None, 16)                0         \n",
            "                                                                 \n",
            " batch_normalization_42 (Bat  (None, 16)               64        \n",
            " chNormalization)                                                \n",
            "                                                                 \n",
            " dense_50 (Dense)            (None, 32)                544       \n",
            "                                                                 \n",
            " dropout_43 (Dropout)        (None, 32)                0         \n",
            "                                                                 \n",
            " batch_normalization_43 (Bat  (None, 32)               128       \n",
            " chNormalization)                                                \n",
            "                                                                 \n",
            " dense_51 (Dense)            (None, 64)                2112      \n",
            "                                                                 \n",
            " dropout_44 (Dropout)        (None, 64)                0         \n",
            "                                                                 \n",
            " batch_normalization_44 (Bat  (None, 64)               256       \n",
            " chNormalization)                                                \n",
            "                                                                 \n",
            " dense_52 (Dense)            (None, 64)                4160      \n",
            "                                                                 \n",
            " dropout_45 (Dropout)        (None, 64)                0         \n",
            "                                                                 \n",
            " batch_normalization_45 (Bat  (None, 64)               256       \n",
            " chNormalization)                                                \n",
            "                                                                 \n",
            " dense_53 (Dense)            (None, 32)                2080      \n",
            "                                                                 \n",
            " dropout_46 (Dropout)        (None, 32)                0         \n",
            "                                                                 \n",
            " batch_normalization_46 (Bat  (None, 32)               128       \n",
            " chNormalization)                                                \n",
            "                                                                 \n",
            " dense_54 (Dense)            (None, 16)                528       \n",
            "                                                                 \n",
            " dropout_47 (Dropout)        (None, 16)                0         \n",
            "                                                                 \n",
            " batch_normalization_47 (Bat  (None, 16)               64        \n",
            " chNormalization)                                                \n",
            "                                                                 \n",
            " dense_55 (Dense)            (None, 1)                 17        \n",
            "                                                                 \n",
            "=================================================================\n",
            "Total params: 10,545\n",
            "Trainable params: 10,097\n",
            "Non-trainable params: 448\n",
            "_________________________________________________________________\n"
          ]
        }
      ]
    },
    {
      "cell_type": "code",
      "source": [
        "print(f\"Binary cross-entropy loss is :{ win_score1[0]}\")\n",
        "print(f\"Accuracy is :{win_score1[1]}\")"
      ],
      "metadata": {
        "id": "QF4ztpK_byHB",
        "colab": {
          "base_uri": "https://localhost:8080/"
        },
        "outputId": "4cc0ade1-b342-4a2b-a480-d3eace474a7f"
      },
      "execution_count": 81,
      "outputs": [
        {
          "output_type": "stream",
          "name": "stdout",
          "text": [
            "Binary cross-entropy loss is :0.7017940878868103\n",
            "Accuracy is :0.5384214520454407\n"
          ]
        }
      ]
    },
    {
      "cell_type": "code",
      "source": [
        "y_pred = model1.predict(X_test)\n",
        "thresh= np.where(y_pred>0.5 ,1,0)"
      ],
      "metadata": {
        "id": "51zHxw0WbyJw"
      },
      "execution_count": 84,
      "outputs": []
    },
    {
      "cell_type": "code",
      "source": [
        "class_report(y_test.values,thresh)"
      ],
      "metadata": {
        "id": "iBw_uzJWbyML",
        "colab": {
          "base_uri": "https://localhost:8080/"
        },
        "outputId": "db2f1038-30d9-4785-a24c-16f00d77e313"
      },
      "execution_count": 85,
      "outputs": [
        {
          "output_type": "execute_result",
          "data": {
            "text/plain": [
              "{'Accuracy': 0.5384214639228966,\n",
              " 'Area under ROC curve': 0.5341825446258415,\n",
              " 'F1_score': 0.6017380881030867,\n",
              " 'Precision': 0.5413128453969538,\n",
              " 'Recall': 0.6773486254005735}"
            ]
          },
          "metadata": {},
          "execution_count": 85
        }
      ]
    },
    {
      "cell_type": "code",
      "source": [
        "# summarize history for accuracy\n",
        "plt.plot(hist1.history['accuracy'])\n",
        "plt.plot(hist1.history['val_accuracy'])\n",
        "plt.title('Model Accuracy')\n",
        "plt.ylabel('Accuracy')\n",
        "plt.xlabel('Epochs')\n",
        "plt.legend(['Train', 'Test'], loc='upper left')\n",
        "plt.show()\n"
      ],
      "metadata": {
        "id": "fAIwMhVcbyO7",
        "colab": {
          "base_uri": "https://localhost:8080/",
          "height": 295
        },
        "outputId": "b0f3e4c2-71da-4357-afa9-584ef29017c7"
      },
      "execution_count": 86,
      "outputs": [
        {
          "output_type": "display_data",
          "data": {
            "image/png": "[encoded data removed]",
            "text/plain": [
              "<Figure size 432x288 with 1 Axes>"
            ]
          },
          "metadata": {
            "needs_background": "light"
          }
        }
      ]
    },
    {
      "cell_type": "code",
      "source": [
        "# summarize history for accuracy\n",
        "plt.plot(hist1.history['loss'])\n",
        "plt.plot(hist1.history['val_loss'])\n",
        "plt.title('Model Loss')\n",
        "plt.ylabel('Binary CrossEntropy Loss')\n",
        "plt.xlabel('Epochs')\n",
        "plt.legend(['Train', 'Test'], loc='upper left')\n",
        "plt.axis([50,65,0,1])\n",
        "plt.show()\n"
      ],
      "metadata": {
        "id": "xkrgcUaVbyRz",
        "colab": {
          "base_uri": "https://localhost:8080/",
          "height": 295
        },
        "outputId": "3841323f-fea0-4ff6-9523-a764ddd43ea8"
      },
      "execution_count": 88,
      "outputs": [
        {
          "output_type": "display_data",
          "data": {
            "image/png": "[encoded data removed]",
            "text/plain": [
              "<Figure size 432x288 with 1 Axes>"
            ]
          },
          "metadata": {
            "needs_background": "light"
          }
        }
      ]
    },
    {
      "cell_type": "markdown",
      "source": [
        "Thus, although the model accuracies have converged it hasn't been able to genearalize well on the data. So, let us increase Regularization"
      ],
      "metadata": {
        "id": "3FXY1dpY4hJ8"
      }
    },
    {
      "cell_type": "code",
      "source": [
        "model2 , hist2, sum2, win_score2 = create_model( 32, 64,128,128, 64, 32,100,'relu','relu',0.3,1e-03)"
      ],
      "metadata": {
        "id": "AM59Lb3mbyZ8"
      },
      "execution_count": null,
      "outputs": []
    },
    {
      "cell_type": "code",
      "source": [
        "print(f\"Binary cross-entropy loss is :{ win_score2[0]}\")\n",
        "print(f\"Accuracy is :{win_score2[1]}\")"
      ],
      "metadata": {
        "colab": {
          "base_uri": "https://localhost:8080/"
        },
        "outputId": "f8b0181a-11c1-41a4-8efa-6e62b2f06047",
        "id": "3HNUvT1_6it6"
      },
      "execution_count": 100,
      "outputs": [
        {
          "output_type": "stream",
          "name": "stdout",
          "text": [
            "Binary cross-entropy loss is :0.7094433307647705\n",
            "Accuracy is :0.4839802086353302\n"
          ]
        }
      ]
    },
    {
      "cell_type": "code",
      "source": [
        "y_pred = model2.predict(X_test)\n",
        "thresh= np.where(y_pred>0.5 ,1,0)"
      ],
      "metadata": {
        "id": "p9j0v_eH6it7"
      },
      "execution_count": 95,
      "outputs": []
    },
    {
      "cell_type": "code",
      "source": [
        "class_report(y_test.values,thresh)"
      ],
      "metadata": {
        "colab": {
          "base_uri": "https://localhost:8080/"
        },
        "outputId": "9c30f849-9072-4e97-f7ed-d1ff7d63287c",
        "id": "11NcVxoQ6it7"
      },
      "execution_count": 96,
      "outputs": [
        {
          "output_type": "execute_result",
          "data": {
            "text/plain": [
              "{'Accuracy': 0.5148042024832856,\n",
              " 'Area under ROC curve': 0.5,\n",
              " 'F1_score': 0.6796973518284994,\n",
              " 'Precision': 0.5148042024832856,\n",
              " 'Recall': 1.0}"
            ]
          },
          "metadata": {},
          "execution_count": 96
        }
      ]
    },
    {
      "cell_type": "code",
      "source": [
        "# summarize history for accuracy\n",
        "plt.plot(hist2.history['accuracy'])\n",
        "plt.plot(hist2.history['val_accuracy'])\n",
        "plt.title('Model Accuracy')\n",
        "plt.ylabel('Accuracy')\n",
        "plt.xlabel('Epochs')\n",
        "plt.legend(['Train', 'Test'], loc='upper left')\n",
        "plt.show()\n"
      ],
      "metadata": {
        "colab": {
          "base_uri": "https://localhost:8080/",
          "height": 295
        },
        "outputId": "d230a4dc-4455-4438-9aa0-f6c433f77321",
        "id": "xLV7izd66it8"
      },
      "execution_count": 97,
      "outputs": [
        {
          "output_type": "display_data",
          "data": {
            "image/png": "[encoded data removed]",
            "text/plain": [
              "<Figure size 432x288 with 1 Axes>"
            ]
          },
          "metadata": {
            "needs_background": "light"
          }
        }
      ]
    },
    {
      "cell_type": "code",
      "source": [
        "# summarize history for accuracy\n",
        "plt.plot(hist2.history['loss'])\n",
        "plt.plot(hist2.history['val_loss'])\n",
        "plt.title('Model Loss')\n",
        "plt.ylabel('Binary CrossEntropy Loss')\n",
        "plt.xlabel('Epochs')\n",
        "plt.legend(['Train', 'Test'], loc='upper left')\n",
        "plt.axis([50,65,0,1])\n",
        "plt.show()\n"
      ],
      "metadata": {
        "colab": {
          "base_uri": "https://localhost:8080/",
          "height": 295
        },
        "outputId": "94d9ad5e-87ec-4939-ce36-bd8ee793b3d4",
        "id": "s-79UjYx6it8"
      },
      "execution_count": 99,
      "outputs": [
        {
          "output_type": "display_data",
          "data": {
            "image/png": "[encoded data removed]",
            "text/plain": [
              "<Figure size 432x288 with 1 Axes>"
            ]
          },
          "metadata": {
            "needs_background": "light"
          }
        }
      ]
    },
    {
      "cell_type": "code",
      "source": [
        ""
      ],
      "metadata": {
        "id": "TI9KPvR5byei"
      },
      "execution_count": null,
      "outputs": []
    },
    {
      "cell_type": "code",
      "source": [
        ""
      ],
      "metadata": {
        "id": "zDnNwESsbyhG"
      },
      "execution_count": null,
      "outputs": []
    },
    {
      "cell_type": "code",
      "source": [
        ""
      ],
      "metadata": {
        "id": "aSS3erXIbyjp"
      },
      "execution_count": null,
      "outputs": []
    }
  ]
}